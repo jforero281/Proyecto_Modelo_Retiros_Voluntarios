{
  "cells": [
    {
      "cell_type": "code",
      "execution_count": null,
      "metadata": {
        "id": "M3l4YLSaCBIi"
      },
      "outputs": [],
      "source": [
        "#Cargar las librerias necesarias para la ejecución del proyecto modelo de predicción de retiros voluntarios\n",
        "\n",
        "import pandas as pd\n",
        "import pandas as pd\n",
        "import numpy as np\n",
        "import seaborn as sns\n",
        "import matplotlib.pyplot as plt\n",
        "import plotly.express as px\n",
        "import plotly.figure_factory as ff"
      ]
    },
    {
      "cell_type": "code",
      "execution_count": null,
      "metadata": {},
      "outputs": [],
      "source": [
        "#Cargar la base de datos con la cual vamos a trabajar en el proyecto\n",
        "\n",
        "retiros=pd.read_csv(\"C:\\Users\\jforero\\OneDrive - Grupo Bancolombia\\91. Universidad - Especialización\\Proyecto_Final_Retiros_Voluntarios\\Retiros_historicos.csv\")\n"
      ]
    },
    {
      "cell_type": "code",
      "execution_count": null,
      "metadata": {
        "colab": {
          "base_uri": "https://localhost:8080/"
        },
        "id": "5eRAHABzWF3Y",
        "outputId": "d9ec1514-a693-42e0-a8b8-d8a6199425c9"
      },
      "outputs": [],
      "source": [
        "retiros.info()"
      ]
    },
    {
      "cell_type": "code",
      "execution_count": null,
      "metadata": {
        "colab": {
          "base_uri": "https://localhost:8080/",
          "height": 236
        },
        "id": "YD9-5A6iEEOo",
        "outputId": "7091e295-6690-47e1-9f86-c244c249637b"
      },
      "outputs": [],
      "source": [
        "pd.set_option(\"display.max_columns\",None)              #con este código podemos observar todas las columnas del df.\n",
        "retiros.sample(2)"
      ]
    },
    {
      "cell_type": "code",
      "execution_count": null,
      "metadata": {
        "colab": {
          "base_uri": "https://localhost:8080/",
          "height": 303
        },
        "id": "xjWMTw9gEWG_",
        "outputId": "8f539a12-3aef-4828-e272-ed460f7134cf"
      },
      "outputs": [],
      "source": [
        "retiros[\"CLASE_DE_MEDIDA\"].value_counts()     #Valores unicos por clase de medida\n",
        "\n"
      ]
    },
    {
      "cell_type": "code",
      "execution_count": null,
      "metadata": {
        "colab": {
          "base_uri": "https://localhost:8080/",
          "height": 1000
        },
        "id": "v0UVaNfAGj1_",
        "outputId": "97fef499-c4b6-4567-ebcd-50b4bf54cfbe"
      },
      "outputs": [],
      "source": [
        "retiros[\"MOTIVO_RETIRO\"].value_counts()            #Valores unicos por motivo de retiro"
      ]
    },
    {
      "cell_type": "code",
      "execution_count": null,
      "metadata": {
        "colab": {
          "base_uri": "https://localhost:8080/"
        },
        "id": "AvWKdztWLPEE",
        "outputId": "972d094f-d341-4a2f-e962-69cf3b9aa9d1"
      },
      "outputs": [],
      "source": [
        "output = []\n",
        "for col in retiros.columns:\n",
        "    vc = retiros[col].value_counts(dropna=False).sort_index()\n",
        "    total = vc.sum()\n",
        "    output.append(f\"{col}:\\n{vc}\\nTotal: {total}\")\n",
        "print('\\n\\n'.join(output))                                              #con esta formula se verifica todos los valores unicos a la vez, permitiendo visualizar si tenemos valores nulos, caracteres especiales en todas las columnas a la vez"
      ]
    },
    {
      "cell_type": "markdown",
      "metadata": {
        "id": "ucQuWC9neVWj"
      },
      "source": [
        "# **VALORES NULOS, CARACTERES ESPECIALES Y EN BLANCO**\n",
        "\n",
        "Se revisa y se identifica que las siguientes columnas no presentan carácteres especiales, ni en blancos, más sin embargo, se identifican algunos valores nulos. Para este ejercicio determinamos que las columnas con un porcentaje de valores nulos mayor al 30% será eliminado.  veamos:\n",
        "1. Area= 11\n",
        "2. Còdigo de area= 2\n",
        "3. Còdigo de cargo= 22579***20%\n",
        "4. VP actual= 12\n",
        "5. Vp Ant= 18543***17%\n",
        "6. 2 act= 12\n",
        "7. 2 ant= 18543***17%\n",
        "8. 3 act= 12\n",
        "9. 3 ant= 18543***17%\n",
        "10. 4 act= 12\n",
        "11. 4 ant= 18543***17%\n",
        "12. 5 act= 12\n",
        "13. 5 ant= 18543***17%\n",
        "14. Nivel de cargo= 3387***3%\n",
        "15. red de sucursales= 3387***3%\n",
        "16. Cargo anterior= 7201***7%\n",
        "17. Compañia anterior= 27928***26%\n",
        "18. Nivel de cargo anterior= 18769***17%\n",
        "\n",
        "\n",
        "Se analizan cada una de las columnas y se determina que no se presentan valores en blanco, ni carácteres especiales. Más sin embargo, se identifican algunos valores nulos que representan menos del 30%, por lo que por este motivo no será eliminadas.\n"
      ]
    },
    {
      "cell_type": "markdown",
      "metadata": {
        "id": "FluC7Y2t45L5"
      },
      "source": [
        "# **LIMPIEZA**"
      ]
    },
    {
      "cell_type": "markdown",
      "metadata": {
        "id": "w46pWIaYHrEN"
      },
      "source": [
        "# VARIABLE GENERO\n",
        "Se identifica que la columna: \"Género presenta inconsistencia en sus datos, se escribe de diferentes formas, por lo que se procede a limpiar la columna a continuación."
      ]
    },
    {
      "cell_type": "code",
      "execution_count": null,
      "metadata": {
        "colab": {
          "base_uri": "https://localhost:8080/"
        },
        "id": "rj-lq7VQY_7u",
        "outputId": "17be3a9f-754b-40a7-fd94-527a39da84b7"
      },
      "outputs": [],
      "source": [
        "retiros['GÉNERO'] = retiros['GÉNERO'].str.strip().str.lower()   #.str.strip() Este método elimina los espacios en blanco al inicio y al final de cada valor de texto en la columna.\n",
        "\n",
        "                                                                #.str.lower() Después de quitar espacios, este método convierte todo el texto a minúsculas.\n",
        "retiros['GÉNERO'] = retiros['GÉNERO'].replace({\n",
        "    'femenino': 'Femenino',\n",
        "    'feménino': 'Femenino',\n",
        "    'masculino': 'Masculino',\n",
        "    'masculíno': 'Masculino',\n",
        "})\n",
        "\n",
        "\n",
        "print(retiros['GÉNERO'].unique())"
      ]
    },
    {
      "cell_type": "markdown",
      "metadata": {
        "id": "r9V6lYXk5EMu"
      },
      "source": [
        "# VARIABLE NIVEL DE CARGO\n",
        "Se identifica que la columna: \"Nivel de cargo\" presenta inconsistencia en sus datos, se escribe de diferentes formas, por lo que se procede a limpiar la columna a continuación."
      ]
    },
    {
      "cell_type": "code",
      "execution_count": null,
      "metadata": {
        "id": "KkdXreri5OkW"
      },
      "outputs": [],
      "source": [
        "retiros['NIVEL_DEL_CARGO'] = retiros['NIVEL_DEL_CARGO'].replace('PROFESIONALES', 'PROFESIONAL')\n"
      ]
    },
    {
      "cell_type": "code",
      "execution_count": null,
      "metadata": {
        "colab": {
          "base_uri": "https://localhost:8080/"
        },
        "id": "tq1dGrfhFGje",
        "outputId": "9c25a2b3-247a-4f29-ace8-ff0acb9be940"
      },
      "outputs": [],
      "source": [
        "retiros.info()"
      ]
    },
    {
      "cell_type": "markdown",
      "metadata": {
        "id": "r85eM__iJfB6"
      },
      "source": [
        "Se revisa el tipo de datos de las columnas a trabajar en el modelo y se identifica que todas presentan el formato correcto; más sin embargo, se identifica que la variable año, es pertienente convertirla a categorica, ya que con este dato no se pueden sacar estadisticas. Y, la columna: periodo se debe convertir a: DATATIME, ya que es una fecha, además se identifica la necesidad de crear una nueva columna, para la variable a predecir, en este caso: \"Retiros voluntarios\""
      ]
    },
    {
      "cell_type": "markdown",
      "metadata": {
        "id": "dy4wq8wWqCWy"
      },
      "source": [
        "# **CREAR COLUMNA PARA RETIROS VOLUNTARIOS Y RETIROS VOLUNTARIOS POR ARREGLO MUTUO\"**\n",
        "\n",
        "Vamos  a clasificar la variable a predecir como \"RETIRO VOLUNTARIO\" en donde sus valores van a ser:\n",
        "\n",
        "1 --> Verdadero: El empleado se retiro voluntariamente (en este valor van a estar relacionados de la variable MOTIVO  DE RETIRO, los valores de \"RETIRO VOLUNTARIO\" y \"VOLUNTARIO ARREGLO MUTUO\"\n",
        "\n",
        "0 --> Falso: El empelado se retiro de su cargo por cualquier otro motivo  los cuales estan relacionados en la variable MOTIVO  DE RETIRO ≠ \"RETIRO VOLUNTARIO\" y \"VOLUNTARIO ARREGLO MUTUO\""
      ]
    },
    {
      "cell_type": "code",
      "execution_count": null,
      "metadata": {
        "id": "pKYGMMfKqGsa"
      },
      "outputs": [],
      "source": [
        "retiros['RETIRO_VOLUNTARIO'] = np.where(\n",
        "    retiros['MOTIVO_RETIRO'].isin(['RETIRO VOLUNTARIO', 'VOLUNTARIO ARREGLO MUTUO']),\n",
        "    1,\n",
        "    0\n",
        ")"
      ]
    },
    {
      "cell_type": "code",
      "execution_count": null,
      "metadata": {
        "colab": {
          "base_uri": "https://localhost:8080/"
        },
        "id": "ANaaErv6qttZ",
        "outputId": "62321474-f0de-4b37-fa75-3de072a48f7a"
      },
      "outputs": [],
      "source": [
        "print(retiros['RETIRO_VOLUNTARIO'].value_counts().sort_index())\n",
        "print(\"Suma total frecuencia:\", retiros['RETIRO_VOLUNTARIO'].value_counts(dropna=False).sum())"
      ]
    },
    {
      "cell_type": "code",
      "execution_count": null,
      "metadata": {
        "colab": {
          "base_uri": "https://localhost:8080/",
          "height": 253
        },
        "id": "Aj_2x4E5kl9t",
        "outputId": "a81a3d88-4c84-4494-a31a-21e904455d1d"
      },
      "outputs": [],
      "source": [
        "retiros.sample(2)"
      ]
    },
    {
      "cell_type": "code",
      "execution_count": null,
      "metadata": {
        "colab": {
          "base_uri": "https://localhost:8080/"
        },
        "id": "f339VZPhPmF6",
        "outputId": "9a335de7-9069-4c7d-fde2-6f3ef7907f69"
      },
      "outputs": [],
      "source": [
        "retiros.info()"
      ]
    },
    {
      "cell_type": "markdown",
      "metadata": {
        "id": "D_tdyPqLCzL6"
      },
      "source": [
        "# ESTADISTICA DESCRIPTIVA"
      ]
    },
    {
      "cell_type": "code",
      "execution_count": null,
      "metadata": {
        "id": "wRy-TZM_s1Hz"
      },
      "outputs": [],
      "source": [
        "variables_modelo = [\n",
        "    \"COMPAÑÍA\", \"CODIGO_AREA\", \"AREA\", \"CODIGO_CARGO\", \"CARGO\", \"REGION\",\n",
        "    \"FORMA_DE_TRABAJO\", \"AÑO\", \"PERIODO\", \"GÉNERO\", \"RETIRO_VOLUNTARIO\", \"NIVEL_DEL_CARGO\",\"RED_DE_SUCURSALES\"\n",
        "]"
      ]
    },
    {
      "cell_type": "code",
      "execution_count": null,
      "metadata": {
        "id": "mRJQF0pzs_81"
      },
      "outputs": [],
      "source": [
        "retiros_reducido = retiros[variables_modelo].copy()"
      ]
    },
    {
      "cell_type": "markdown",
      "metadata": {
        "id": "DwW04LsHDDrw"
      },
      "source": [
        "Convertimos 'RETIRO_VOLUNTARIO' como BOOLEANA para poderlo representar mejor en un diagrama de barras"
      ]
    },
    {
      "cell_type": "code",
      "execution_count": null,
      "metadata": {
        "id": "2whjuRBXDKXU"
      },
      "outputs": [],
      "source": [
        "retiros['RETIRO_VOLUNTARIO'] = retiros['RETIRO_VOLUNTARIO'].astype(\"bool\")"
      ]
    },
    {
      "cell_type": "code",
      "execution_count": null,
      "metadata": {
        "colab": {
          "base_uri": "https://localhost:8080/",
          "height": 517
        },
        "id": "e8X5W1JoCyIj",
        "outputId": "9df32de1-29b3-4e25-b58f-4254e47f33c8"
      },
      "outputs": [],
      "source": [
        "import plotly.express as px\n",
        "\n",
        "# Reemplazar True/False por \"Sí\"/\"No\"\n",
        "conteo = retiros_reducido['RETIRO_VOLUNTARIO'].replace({True: \"Sí\", False: \"No\"}).value_counts().reset_index()\n",
        "conteo.columns = ['RETIRO_VOLUNTARIO', 'count']\n",
        "\n",
        "# Crear gráfico de barras con etiquetas visibles\n",
        "fig = px.bar(\n",
        "    conteo,\n",
        "    x='RETIRO_VOLUNTARIO',\n",
        "    y='count',\n",
        "    text='count',\n",
        "    labels={'RETIRO_VOLUNTARIO': '¿Se retiró voluntariamente?', 'count': 'Cantidad'},\n",
        "    title='Retiros voluntarios en Bancolombia',\n",
        "    width=600,\n",
        "    height=500  # Aumenta altura para dar más espacio\n",
        ")\n",
        "\n",
        "# Posición y estilo del texto\n",
        "fig.update_traces(\n",
        "    textposition='outside',\n",
        "    textfont_size=14  # Tamaño más grande para mejor lectura\n",
        ")\n",
        "\n",
        "# Ajustar márgenes y diseño\n",
        "fig.update_layout(\n",
        "    margin=dict(t=100),  # Espacio superior extra\n",
        "    yaxis_title='Cantidad',\n",
        "    xaxis_title='¿Se retiró voluntariamente?',\n",
        "    uniformtext_minsize=8,\n",
        "    uniformtext_mode='show'\n",
        ")\n",
        "\n",
        "fig.show()"
      ]
    },
    {
      "cell_type": "code",
      "execution_count": null,
      "metadata": {
        "colab": {
          "base_uri": "https://localhost:8080/",
          "height": 542
        },
        "id": "tKyvOvOKD7t5",
        "outputId": "13bf2ab9-e6f4-41c1-bb92-6351618d1a2d"
      },
      "outputs": [],
      "source": [
        "import plotly.express as px\n",
        "\n",
        "# Paso 1: Top 20 códigos de área\n",
        "top_areas = retiros['CODIGO_AREA'].value_counts().head(20).index\n",
        "\n",
        "# Paso 2: Filtrar los datos\n",
        "df_top = retiros[retiros['CODIGO_AREA'].isin(top_areas)]\n",
        "\n",
        "# Paso 3: Agrupar por código de área y retiro voluntario\n",
        "grouped = df_top.groupby(['CODIGO_AREA', 'RETIRO_VOLUNTARIO'], observed=True).size().reset_index(name='Cantidad')\n",
        "\n",
        "# Paso 4: Convertir booleanos a texto\n",
        "grouped['RETIRO_VOLUNTARIO'] = grouped['RETIRO_VOLUNTARIO'].map({False: 'No', True: 'Sí'})\n",
        "\n",
        "# Paso 5: Asegurar que el código de área sea string\n",
        "grouped['CODIGO_AREA'] = grouped['CODIGO_AREA'].astype(str)\n",
        "\n",
        "# Paso 6: Crear el gráfico\n",
        "fig = px.bar(\n",
        "    grouped,\n",
        "    x='CODIGO_AREA',\n",
        "    y='Cantidad',\n",
        "    color='RETIRO_VOLUNTARIO',\n",
        "    title='Top 20 Códigos de Área vs Retiro Voluntario',\n",
        "    labels={\n",
        "        'CODIGO_AREA': 'Código de Área',\n",
        "        'Cantidad': 'Número de Retiros',\n",
        "        'RETIRO_VOLUNTARIO': '¿Retiro Voluntario?'\n",
        "    },\n",
        "    barmode='stack'\n",
        ")\n",
        "\n",
        "# Paso 7: Ajustar el ángulo de las etiquetas\n",
        "fig.update_layout(xaxis_tickangle=-45)\n",
        "\n",
        "# Mostrar el gráfico\n",
        "fig.show()\n"
      ]
    },
    {
      "cell_type": "code",
      "execution_count": null,
      "metadata": {
        "colab": {
          "base_uri": "https://localhost:8080/",
          "height": 817
        },
        "id": "ltpPLqRTFgI1",
        "outputId": "3e8a50fb-1e01-4258-ce4c-a4252de22484"
      },
      "outputs": [],
      "source": [
        "import plotly.express as px\n",
        "\n",
        "# Paso 1: Top 20 áreas por cantidad de retiros\n",
        "top_areas = retiros_reducido['AREA'].value_counts().head(20).index\n",
        "\n",
        "# Paso 2: Filtrar el DataFrame por las top 20 áreas\n",
        "df_top = retiros_reducido[retiros_reducido['AREA'].isin(top_areas)]\n",
        "\n",
        "# Paso 3: Agrupar por AREA y RETIRO_VOLUNTARIO\n",
        "grouped = df_top.groupby(['AREA', 'RETIRO_VOLUNTARIO']).size().reset_index(name='Cantidad')\n",
        "\n",
        "# Paso 4: Asegurar que AREA esté como string (por si acaso)\n",
        "grouped['AREA'] = grouped['AREA'].astype(str)\n",
        "\n",
        "# Paso 5: Crear el gráfico apilado\n",
        "fig = px.bar(\n",
        "    grouped,\n",
        "    x='AREA',\n",
        "    y='Cantidad',\n",
        "    color='RETIRO_VOLUNTARIO',\n",
        "    title='Top 20 Áreas vs Retiro Voluntario',\n",
        "    labels={\n",
        "        'AREA': 'Área',\n",
        "        'Cantidad': 'Número de Retiros',\n",
        "        'RETIRO_VOLUNTARIO': '¿Retiro Voluntario?'\n",
        "    },\n",
        "    barmode='stack'  # Apilado\n",
        ")\n",
        "\n",
        "# Modificar el tamaño del gráfico\n",
        "fig.update_layout(\n",
        "    xaxis_tickangle=-45,\n",
        "    width=1500,  # Ancho del gráfico\n",
        "    height=800   # Alto del gráfico\n",
        ")\n",
        "\n",
        "fig.show()\n"
      ]
    },
    {
      "cell_type": "code",
      "execution_count": null,
      "metadata": {
        "colab": {
          "base_uri": "https://localhost:8080/",
          "height": 817
        },
        "id": "KrdX6tx8uXJM",
        "outputId": "11278c2c-7050-4257-e7e8-894ac61b3148"
      },
      "outputs": [],
      "source": [
        "import plotly.express as px\n",
        "\n",
        "# Paso 1: Top 20 códigos de cargo\n",
        "top_cargos = retiros_reducido['CODIGO_CARGO'].value_counts().head(20).index\n",
        "\n",
        "# Paso 2: Filtrar el DataFrame por los top 20 códigos de cargo\n",
        "df_top = retiros_reducido[retiros_reducido['CODIGO_CARGO'].isin(top_cargos)]\n",
        "\n",
        "# Paso 3: Agrupar por código de cargo y retiro voluntario\n",
        "grouped = df_top.groupby(['CODIGO_CARGO', 'RETIRO_VOLUNTARIO']).size().reset_index(name='Cantidad')\n",
        "\n",
        "# Paso 4: Asegurar que CODIGO_CARGO esté como string para que sea categórico en el eje X\n",
        "grouped['CODIGO_CARGO'] = grouped['CODIGO_CARGO'].astype(str)\n",
        "\n",
        "# Paso 5: Crear el gráfico apilado\n",
        "fig = px.bar(\n",
        "    grouped,\n",
        "    x='CODIGO_CARGO',\n",
        "    y='Cantidad',\n",
        "    color='RETIRO_VOLUNTARIO',\n",
        "    title='Top 20 Códigos de Cargo vs Retiro Voluntario',\n",
        "    labels={'CODIGO_CARGO': 'Código de Cargo', 'Cantidad': 'Número de Retiros', 'RETIRO_VOLUNTARIO': '¿Retiro Voluntario?'},\n",
        "    barmode='stack'  # Apilado\n",
        ")\n",
        "\n",
        "# Modificar el tamaño del gráfico\n",
        "fig.update_layout(\n",
        "    xaxis_tickangle=-45,\n",
        "    width=1500,  # Ancho del gráfico\n",
        "    height=800   # Alto del gráfico\n",
        ")\n",
        "\n",
        "fig.show()"
      ]
    },
    {
      "cell_type": "code",
      "execution_count": null,
      "metadata": {
        "colab": {
          "base_uri": "https://localhost:8080/",
          "height": 708
        },
        "id": "nT2HDjMWF92N",
        "outputId": "c55cb6af-dde9-4387-e95a-c719bc95ce75"
      },
      "outputs": [],
      "source": [
        "# Mostrar la tabla con el top 20 de códigos de cargo y retiro voluntario\n",
        "tabla_top20 = grouped.sort_values(by='Cantidad', ascending=False)\n",
        "display(tabla_top20.sort_index())\n"
      ]
    },
    {
      "cell_type": "code",
      "execution_count": null,
      "metadata": {
        "colab": {
          "base_uri": "https://localhost:8080/",
          "height": 817
        },
        "id": "WRfJmlidGWxT",
        "outputId": "7cd9e98a-46d3-4924-eb82-6077503e2469"
      },
      "outputs": [],
      "source": [
        "import plotly.express as px\n",
        "\n",
        "# Paso 1: Top 20 cargos por cantidad de retiros\n",
        "top_cargos = retiros_reducido['CARGO'].value_counts().head(20).index\n",
        "\n",
        "# Paso 2: Filtrar el DataFrame por los top 20 cargos\n",
        "df_top = retiros_reducido[retiros_reducido['CARGO'].isin(top_cargos)]\n",
        "\n",
        "# Paso 3: Agrupar por CARGO y RETIRO_VOLUNTARIO\n",
        "grouped = df_top.groupby(['CARGO', 'RETIRO_VOLUNTARIO']).size().reset_index(name='Cantidad')\n",
        "\n",
        "# Paso 4: Asegurar que CARGO esté como string para que sea categórico en el eje X\n",
        "grouped['CARGO'] = grouped['CARGO'].astype(str)\n",
        "\n",
        "# Paso 5: Crear el gráfico apilado\n",
        "fig = px.bar(\n",
        "    grouped,\n",
        "    x='CARGO',\n",
        "    y='Cantidad',\n",
        "    color='RETIRO_VOLUNTARIO',\n",
        "    title='Top 20 Cargos vs Retiro Voluntario',\n",
        "    labels={'CARGO': 'Cargo', 'Cantidad': 'Número de Retiros', 'RETIRO_VOLUNTARIO': '¿Retiro Voluntario?'},\n",
        "    barmode='stack'  # Apilado\n",
        ")\n",
        "\n",
        "# Modificar el tamaño del gráfico\n",
        "fig.update_layout(\n",
        "    xaxis_tickangle=-45,\n",
        "    width=1500,  # Ancho\n",
        "    height=800   # Alto\n",
        ")\n",
        "\n",
        "fig.show()"
      ]
    },
    {
      "cell_type": "code",
      "execution_count": null,
      "metadata": {
        "colab": {
          "base_uri": "https://localhost:8080/",
          "height": 672
        },
        "id": "sxkJJoxg1y7n",
        "outputId": "e1a00291-d722-4c8e-e511-7eafc22eddf8"
      },
      "outputs": [],
      "source": [
        "import pandas as pd\n",
        "import plotly.express as px\n",
        "import numpy as np\n",
        "\n",
        "# Paso 1: Reemplazar los nombres de los meses con su formato en inglés\n",
        "month_translation = {\n",
        "    'ene': 'Jan', 'feb': 'Feb', 'mar': 'Mar', 'abr': 'Apr', 'may': 'May', 'jun': 'Jun',\n",
        "    'jul': 'Jul', 'ago': 'Aug', 'sep': 'Sep', 'oct': 'Oct', 'nov': 'Nov', 'dic': 'Dec'\n",
        "}\n",
        "\n",
        "# Asegurarse de que los valores de la columna 'PERIODO' estén en minúsculas\n",
        "retiros_reducido['PERIODO'] = retiros_reducido['PERIODO'].str.lower()\n",
        "\n",
        "# Reemplazar los meses con su formato en inglés\n",
        "retiros_reducido['PERIODO'] = retiros_reducido['PERIODO'].replace(month_translation, regex=True)\n",
        "\n",
        "# Paso 2: Convertir la columna PERIODO a formato datetime (ahora con meses en inglés)\n",
        "retiros_reducido['PERIODO'] = pd.to_datetime(retiros_reducido['PERIODO'], format='%b-%y', errors='coerce')\n",
        "\n",
        "# Paso 3: Verificar si hay valores nulos después de la conversión\n",
        "print(retiros_reducido[retiros_reducido['PERIODO'].isna()])\n",
        "\n",
        "# Paso 4: Calcular el número de bins según la regla de Freedman-Diaconis\n",
        "Q1 = retiros_reducido['PERIODO'].quantile(0.25)\n",
        "Q3 = retiros_reducido['PERIODO'].quantile(0.75)\n",
        "IQR = Q3 - Q1\n",
        "bin_width = 2 * IQR / (len(retiros_reducido['PERIODO']) ** (1 / 3))\n",
        "bins = int((retiros_reducido['PERIODO'].max() - retiros_reducido['PERIODO'].min()) / bin_width)\n",
        "\n",
        "# Paso 5: Crear el gráfico apilado con la variable RETIRO_VOLUNTARIO\n",
        "fig = px.histogram(\n",
        "    retiros_reducido,\n",
        "    x='PERIODO',\n",
        "    color='RETIRO_VOLUNTARIO',  # Apilar según RETIRO_VOLUNTARIO\n",
        "    nbins=bins,  # Número de bins calculado\n",
        "    title='Histograma de Frecuencia de Periodo por Retiro Voluntario',\n",
        "    labels={'PERIODO': 'Periodo', 'count': 'Frecuencia'},\n",
        "    barmode='stack',  # Apilado\n",
        "    color_discrete_map={  # Asignar colores específicos\n",
        "        False: 'blue',    # Falso será azul\n",
        "        True: 'orange'    # Verdadero será naranja\n",
        "    }\n",
        ")\n",
        "\n",
        "# Paso 6: Agregar contornos a las barras y modificar el tamaño del gráfico\n",
        "fig.update_traces(marker_line_width=2, marker_line_color='black')  # Contornos de las barras en negro\n",
        "\n",
        "# Paso 7: Modificar el tamaño del gráfico\n",
        "fig.update_layout(\n",
        "    xaxis_tickangle=-45,\n",
        "    width=1000,  # Cambiar el ancho según desees\n",
        "    height=600   # Cambiar la altura según desees\n",
        ")\n",
        "\n",
        "# Mostrar el gráfico\n",
        "fig.show()"
      ]
    },
    {
      "cell_type": "code",
      "execution_count": null,
      "metadata": {
        "colab": {
          "base_uri": "https://localhost:8080/",
          "height": 937
        },
        "id": "IEJumtRsGY34",
        "outputId": "ac27c73a-ead4-4875-d038-45f109535f96"
      },
      "outputs": [],
      "source": [
        "import pandas as pd\n",
        "import plotly.express as px\n",
        "\n",
        "# Paso 1: Agrupar por la variable COMPAÑÍA y RETIRO_VOLUNTARIO\n",
        "grouped = retiros_reducido.groupby(['COMPAÑÍA', 'RETIRO_VOLUNTARIO']).size().reset_index(name='Cantidad')\n",
        "\n",
        "# Paso 2: Asegurarse de que la columna COMPAÑÍA esté como string (si es necesario)\n",
        "grouped['COMPAÑÍA'] = grouped['COMPAÑÍA'].astype(str)\n",
        "\n",
        "# Paso 3: Crear el gráfico de barras apiladas\n",
        "fig = px.bar(\n",
        "    grouped,\n",
        "    x='COMPAÑÍA',\n",
        "    y='Cantidad',\n",
        "    color='RETIRO_VOLUNTARIO',\n",
        "    title='Cantidad de Retiros por Compañía y Retiro Voluntario',\n",
        "    labels={'COMPAÑÍA': 'Compañía', 'Cantidad': 'Número de Retiros', 'RETIRO_VOLUNTARIO': '¿Retiro Voluntario?'},\n",
        "    barmode='stack',  # Apilado\n",
        ")\n",
        "\n",
        "# Paso 4: Modificar el tamaño del gráfico\n",
        "fig.update_layout(\n",
        "    xaxis_tickangle=-45,  # Rotar las etiquetas del eje X\n",
        "    width=1600,  # Ancho del gráfico\n",
        "    height=900   # Alto del gráfico\n",
        ")\n",
        "\n",
        "# Mostrar el gráfico\n",
        "fig.show()\n"
      ]
    },
    {
      "cell_type": "code",
      "execution_count": null,
      "metadata": {
        "colab": {
          "base_uri": "https://localhost:8080/",
          "height": 717
        },
        "id": "1uuRtywtGDL4",
        "outputId": "c9fb9469-4397-4f46-cd2e-904d7d1aa30e"
      },
      "outputs": [],
      "source": [
        "import pandas as pd\n",
        "import plotly.express as px\n",
        "\n",
        "# Paso 1: Agrupar por la variable REGION y RETIRO_VOLUNTARIO\n",
        "grouped = retiros_reducido.groupby(['REGION', 'RETIRO_VOLUNTARIO']).size().reset_index(name='Cantidad')\n",
        "\n",
        "# Paso 2: Asegurarse de que la columna REGION esté como string (si es necesario)\n",
        "grouped['REGION'] = grouped['REGION'].astype(str)\n",
        "\n",
        "# Paso 3: Crear el gráfico de barras apiladas\n",
        "fig = px.bar(\n",
        "    grouped,\n",
        "    x='REGION',\n",
        "    y='Cantidad',\n",
        "    color='RETIRO_VOLUNTARIO',\n",
        "    title='Cantidad de Retiros por Región y Retiro Voluntario',\n",
        "    labels={'REGION': 'Región', 'Cantidad': 'Número de Retiros', 'RETIRO_VOLUNTARIO': '¿Retiro Voluntario?'},\n",
        "    barmode='stack',  # Apilado\n",
        ")\n",
        "\n",
        "# Paso 4: Modificar el tamaño del gráfico\n",
        "fig.update_layout(\n",
        "    xaxis_tickangle=-45,  # Rotar las etiquetas del eje X\n",
        "    width=1200,  # Ancho del gráfico\n",
        "    height=700   # Alto del gráfico\n",
        ")\n",
        "\n",
        "# Mostrar el gráfico\n",
        "fig.show()\n"
      ]
    },
    {
      "cell_type": "markdown",
      "metadata": {
        "id": "pghTgAbkmDl5"
      },
      "source": [
        "Pasos para un Feature Engineering"
      ]
    },
    {
      "cell_type": "code",
      "execution_count": null,
      "metadata": {
        "colab": {
          "base_uri": "https://localhost:8080/",
          "height": 717
        },
        "id": "mAl6fJ5QIOBf",
        "outputId": "7517492f-8ae7-4e92-e008-2e495febd292"
      },
      "outputs": [],
      "source": [
        "import pandas as pd\n",
        "import plotly.express as px\n",
        "\n",
        "# Paso 1: Agrupar por la variable FORMA_DE_TRABAJO y RETIRO_VOLUNTARIO\n",
        "grouped = retiros_reducido.groupby(['FORMA_DE_TRABAJO', 'RETIRO_VOLUNTARIO']).size().reset_index(name='Cantidad')\n",
        "\n",
        "# Paso 2: Asegurarse de que la columna FORMA_DE_TRABAJO esté como string (si es necesario)\n",
        "grouped['FORMA_DE_TRABAJO'] = grouped['FORMA_DE_TRABAJO'].astype(str)\n",
        "\n",
        "# Paso 3: Crear el gráfico de barras apiladas\n",
        "fig = px.bar(\n",
        "    grouped,\n",
        "    x='FORMA_DE_TRABAJO',\n",
        "    y='Cantidad',\n",
        "    color='RETIRO_VOLUNTARIO',\n",
        "    title='Cantidad de Retiros por Forma de Trabajo y Retiro Voluntario',\n",
        "    labels={'FORMA_DE_TRABAJO': 'Forma de Trabajo', 'Cantidad': 'Número de Retiros', 'RETIRO_VOLUNTARIO': '¿Retiro Voluntario?'},\n",
        "    barmode='stack',  # Apilado\n",
        ")\n",
        "\n",
        "# Paso 4: Modificar el tamaño del gráfico\n",
        "fig.update_layout(\n",
        "    xaxis_tickangle=-45,  # Rotar las etiquetas del eje X\n",
        "    width=1200,  # Ancho del gráfico\n",
        "    height=700   # Alto del gráfico\n",
        ")\n",
        "\n",
        "# Mostrar el gráfico\n",
        "fig.show()\n"
      ]
    },
    {
      "cell_type": "code",
      "execution_count": null,
      "metadata": {
        "id": "vdCJNuffmGP3"
      },
      "outputs": [],
      "source": []
    },
    {
      "cell_type": "code",
      "execution_count": null,
      "metadata": {
        "colab": {
          "base_uri": "https://localhost:8080/",
          "height": 717
        },
        "id": "1dpP-Yc9Gv0U",
        "outputId": "0aeea297-15d8-4f74-d5f3-e90427b2662a"
      },
      "outputs": [],
      "source": [
        "import pandas as pd\n",
        "import plotly.express as px\n",
        "\n",
        "# Paso 1: Asegurarse de que la columna AÑO sea de tipo string (si es necesario)\n",
        "retiros_reducido['AÑO'] = retiros_reducido['AÑO'].astype(str)\n",
        "\n",
        "# Paso 2: Agrupar por la variable AÑO y RETIRO_VOLUNTARIO\n",
        "grouped = retiros_reducido.groupby(['AÑO', 'RETIRO_VOLUNTARIO']).size().reset_index(name='Cantidad')\n",
        "\n",
        "# Paso 3: Crear el gráfico de barras apiladas\n",
        "fig = px.bar(\n",
        "    grouped,\n",
        "    x='AÑO',\n",
        "    y='Cantidad',\n",
        "    color='RETIRO_VOLUNTARIO',\n",
        "    title='Cantidad de Retiros por Año y Retiro Voluntario',\n",
        "    labels={'AÑO': 'Año', 'Cantidad': 'Número de Retiros', 'RETIRO_VOLUNTARIO': '¿Retiro Voluntario?'},\n",
        "    barmode='stack',  # Apilado\n",
        ")\n",
        "\n",
        "# Paso 4: Modificar el tamaño del gráfico\n",
        "fig.update_layout(\n",
        "    xaxis_tickangle=-45,  # Rotar las etiquetas del eje X\n",
        "    width=1200,  # Ancho del gráfico\n",
        "    height=700   # Alto del gráfico\n",
        ")\n",
        "\n",
        "# Mostrar el gráfico\n",
        "fig.show()"
      ]
    },
    {
      "cell_type": "code",
      "execution_count": null,
      "metadata": {
        "colab": {
          "base_uri": "https://localhost:8080/",
          "height": 717
        },
        "id": "SRemn8d_G0cg",
        "outputId": "d08c07a5-0ef4-43f0-fe5a-5b824edc02d9"
      },
      "outputs": [],
      "source": [
        "import pandas as pd\n",
        "import plotly.express as px\n",
        "\n",
        "# Paso 1: Asegurarse de que la columna GÉNERO sea de tipo string (si es necesario)\n",
        "retiros_reducido['GÉNERO'] = retiros_reducido['GÉNERO'].astype(str)\n",
        "\n",
        "# Paso 2: Agrupar por la variable GÉNERO y RETIRO_VOLUNTARIO\n",
        "grouped = retiros_reducido.groupby(['GÉNERO', 'RETIRO_VOLUNTARIO']).size().reset_index(name='Cantidad')\n",
        "\n",
        "# Paso 3: Crear el gráfico de barras apiladas\n",
        "fig = px.bar(\n",
        "    grouped,\n",
        "    x='GÉNERO',\n",
        "    y='Cantidad',\n",
        "    color='RETIRO_VOLUNTARIO',\n",
        "    title='Cantidad de Retiros por Género y Retiro Voluntario',\n",
        "    labels={'GÉNERO': 'Género', 'Cantidad': 'Número de Retiros', 'RETIRO_VOLUNTARIO': '¿Retiro Voluntario?'},\n",
        "    barmode='stack',  # Apilado\n",
        ")\n",
        "\n",
        "# Paso 4: Modificar el tamaño del gráfico\n",
        "fig.update_layout(\n",
        "    xaxis_tickangle=-45,  # Rotar las etiquetas del eje X\n",
        "    width=1200,  # Ancho del gráfico\n",
        "    height=700   # Alto del gráfico\n",
        ")\n",
        "\n",
        "# Mostrar el gráfico\n",
        "fig.show()"
      ]
    },
    {
      "cell_type": "code",
      "execution_count": null,
      "metadata": {
        "colab": {
          "base_uri": "https://localhost:8080/",
          "height": 717
        },
        "id": "ezIk1sYiG4Wf",
        "outputId": "8638a0d7-d629-4a37-bfdc-009e6cc66bca"
      },
      "outputs": [],
      "source": [
        "import pandas as pd\n",
        "import plotly.express as px\n",
        "\n",
        "# Paso 1: Asegurarse de que la columna NIVEL_DEL_CARGO sea de tipo string (si es necesario)\n",
        "retiros_reducido['NIVEL_DEL_CARGO'] = retiros_reducido['NIVEL_DEL_CARGO'].astype(str)\n",
        "\n",
        "# Paso 2: Agrupar por la variable NIVEL_DEL_CARGO y RETIRO_VOLUNTARIO\n",
        "grouped = retiros_reducido.groupby(['NIVEL_DEL_CARGO', 'RETIRO_VOLUNTARIO']).size().reset_index(name='Cantidad')\n",
        "\n",
        "# Paso 3: Crear el gráfico de barras apiladas\n",
        "fig = px.bar(\n",
        "    grouped,\n",
        "    x='NIVEL_DEL_CARGO',\n",
        "    y='Cantidad',\n",
        "    color='RETIRO_VOLUNTARIO',\n",
        "    title='Cantidad de Retiros por Nivel del Cargo y Retiro Voluntario',\n",
        "    labels={'NIVEL_DEL_CARGO': 'Nivel del Cargo', 'Cantidad': 'Número de Retiros', 'RETIRO_VOLUNTARIO': '¿Retiro Voluntario?'},\n",
        "    barmode='stack',  # Apilado\n",
        ")\n",
        "\n",
        "# Paso 4: Modificar el tamaño del gráfico\n",
        "fig.update_layout(\n",
        "    xaxis_tickangle=-45,  # Rotar las etiquetas del eje X\n",
        "    width=1200,  # Ancho del gráfico\n",
        "    height=700   # Alto del gráfico\n",
        ")\n",
        "\n",
        "# Mostrar el gráfico\n",
        "fig.show()"
      ]
    },
    {
      "cell_type": "code",
      "execution_count": null,
      "metadata": {
        "colab": {
          "base_uri": "https://localhost:8080/",
          "height": 717
        },
        "id": "RDdPFDWkHDKV",
        "outputId": "be7f03a8-b0db-4621-cfa6-6c7efa77d323"
      },
      "outputs": [],
      "source": [
        "import pandas as pd\n",
        "import plotly.express as px\n",
        "\n",
        "# Paso 1: Asegurarse de que la columna RED_DE_SUCURSALES sea de tipo string (si es necesario)\n",
        "retiros_reducido['RED_DE_SUCURSALES'] = retiros_reducido['RED_DE_SUCURSALES'].astype(str)\n",
        "\n",
        "# Paso 2: Agrupar por la variable RED_DE_SUCURSALES y RETIRO_VOLUNTARIO\n",
        "grouped = retiros_reducido.groupby(['RED_DE_SUCURSALES', 'RETIRO_VOLUNTARIO']).size().reset_index(name='Cantidad')\n",
        "\n",
        "# Paso 3: Crear el gráfico de barras apiladas\n",
        "fig = px.bar(\n",
        "    grouped,\n",
        "    x='RED_DE_SUCURSALES',\n",
        "    y='Cantidad',\n",
        "    color='RETIRO_VOLUNTARIO',\n",
        "    title='Cantidad de Retiros por Red de Sucursales y Retiro Voluntario',\n",
        "    labels={'RED_DE_SUCURSALES': 'Red de Sucursales', 'Cantidad': 'Número de Retiros', 'RETIRO_VOLUNTARIO': '¿Retiro Voluntario?'},\n",
        "    barmode='stack',  # Apilado\n",
        ")\n",
        "\n",
        "# Paso 4: Modificar el tamaño del gráfico\n",
        "fig.update_layout(\n",
        "    xaxis_tickangle=-45,  # Rotar las etiquetas del eje X\n",
        "    width=1200,  # Ancho del gráfico\n",
        "    height=700   # Alto del gráfico\n",
        ")\n",
        "\n",
        "# Mostrar el gráfico\n",
        "fig.show()"
      ]
    },
    {
      "cell_type": "code",
      "execution_count": null,
      "metadata": {
        "id": "6Axb1VQVIbT7"
      },
      "outputs": [],
      "source": [
        "# base libraries for data science\n",
        "from pathlib import Path\n",
        "\n",
        "import pandas as pd\n",
        "import sklearn as sk\n",
        "from sklearn.compose import ColumnTransformer\n",
        "from sklearn.impute import SimpleImputer\n",
        "from sklearn.model_selection import train_test_split\n",
        "from sklearn.pipeline import Pipeline\n",
        "from sklearn.preprocessing import OneHotEncoder, OrdinalEncoder"
      ]
    },
    {
      "cell_type": "code",
      "execution_count": null,
      "metadata": {
        "colab": {
          "base_uri": "https://localhost:8080/"
        },
        "id": "nAMzYAKa8H_o",
        "outputId": "ccee06ba-efa6-45c4-ffbe-c3cb9d414316"
      },
      "outputs": [],
      "source": [
        "retiros.info()"
      ]
    },
    {
      "cell_type": "markdown",
      "metadata": {
        "id": "px2gjIbS8PGl"
      },
      "source": [
        "ELIMINACIÓN DE COLUMNAS NO NECESARIAS PARA EL MODELO"
      ]
    },
    {
      "cell_type": "code",
      "execution_count": null,
      "metadata": {
        "id": "uTwh8S1bm-G3"
      },
      "outputs": [],
      "source": [
        "variables_modelo = [\n",
        "    \"COMPAÑÍA\", \"CODIGO_AREA\", \"AREA\", \"CODIGO_CARGO\", \"CARGO\", \"REGION\",\n",
        "    \"FORMA_DE_TRABAJO\", \"AÑO\", \"PERIODO\", \"GÉNERO\", \"RETIRO_VOLUNTARIO\", \"NIVEL_DEL_CARGO\",\"RED_DE_SUCURSALES\"\n",
        "]"
      ]
    },
    {
      "cell_type": "markdown",
      "metadata": {
        "id": "Y9LAGqen1nCQ"
      },
      "source": [
        "Estas variables describen al empleado antes del retiro y son apropiadas para entrenar el modelo:\n",
        "\n",
        "COMPAÑÍA, CODIGO_AREA, AREA, CODIGO_CARGO, CARGO, REGION, FORMA_DE_TRABAJO, AÑO, PERIODO, GÉNERO.\n",
        "\n",
        "El resto de variables se eliminan de la variable retiro_reducido, por qué no aporta información pertinente para el modelo o estas variables reflejan la decisión o consecuencia del retiro, o están muy relacionadas con la definición directa del target, por lo que confundiria el modelo."
      ]
    },
    {
      "cell_type": "code",
      "execution_count": null,
      "metadata": {
        "colab": {
          "base_uri": "https://localhost:8080/",
          "height": 718
        },
        "id": "tHN-K531nPyf",
        "outputId": "a0ddf314-861b-4c6d-a22a-2b9761a0125d"
      },
      "outputs": [],
      "source": [
        "retiros_reducido = retiros[variables_modelo].copy()\n",
        "retiros_reducido"
      ]
    },
    {
      "cell_type": "code",
      "execution_count": null,
      "metadata": {
        "colab": {
          "base_uri": "https://localhost:8080/"
        },
        "id": "JYcHlKfMnVNE",
        "outputId": "8bf7be9d-95df-4b88-b13a-be8e28f963db"
      },
      "outputs": [],
      "source": [
        "retiros_reducido.info()"
      ]
    },
    {
      "cell_type": "markdown",
      "metadata": {
        "id": "k78-GsoIycyi"
      },
      "source": [
        "VALORES FALTANTES"
      ]
    },
    {
      "cell_type": "code",
      "execution_count": null,
      "metadata": {
        "colab": {
          "base_uri": "https://localhost:8080/",
          "height": 491
        },
        "id": "Kj9TZRUVywms",
        "outputId": "d1604668-9176-459a-f806-0d0cf35b1e7a"
      },
      "outputs": [],
      "source": [
        "retiros_reducido.isna().sum()"
      ]
    },
    {
      "cell_type": "markdown",
      "metadata": {
        "id": "HGx77aJ4zJda"
      },
      "source": [
        "DATOS DUPLICADOS"
      ]
    },
    {
      "cell_type": "code",
      "execution_count": null,
      "metadata": {
        "colab": {
          "base_uri": "https://localhost:8080/"
        },
        "id": "HQF9OTdIy2or",
        "outputId": "9591e728-d4d0-4a60-b0ae-f85888147f48"
      },
      "outputs": [],
      "source": [
        "filas_duplicadas = retiros_reducido.duplicated().sum()\n",
        "print(\"Cantidad de filas duplicadas: \", filas_duplicadas)"
      ]
    },
    {
      "cell_type": "markdown",
      "metadata": {
        "id": "gZAnc4IXzhfH"
      },
      "source": [
        "Se identifica que al renombrar el dataframe y manejar solo las variables necesarias para el modelo, tenemos información duplicada, pero esto se debe a que se elimina el ID; por lo que es normal que se repitan las filas con datos comunes entre sí."
      ]
    },
    {
      "cell_type": "code",
      "execution_count": null,
      "metadata": {
        "colab": {
          "base_uri": "https://localhost:8080/"
        },
        "id": "WQbktiXq9huh",
        "outputId": "2aa5ced7-3afe-49a8-bd59-83b9c9554acc"
      },
      "outputs": [],
      "source": [
        "retiros_reducido.info()"
      ]
    },
    {
      "cell_type": "markdown",
      "metadata": {
        "id": "WAo76Rlw94Al"
      },
      "source": [
        "INGENIERIA DE DATOS"
      ]
    },
    {
      "cell_type": "code",
      "execution_count": null,
      "metadata": {
        "colab": {
          "base_uri": "https://localhost:8080/",
          "height": 345
        },
        "id": "FJZ82zXd9j0D",
        "outputId": "285ba9b5-3774-41f3-d5e5-c6050188ed2d"
      },
      "outputs": [],
      "source": [
        "# Codificar la variable objetivo\n",
        "\n",
        "retiros_reducido[\"RETIRO_VOLUNTARIO\"] = retiros_reducido[\"RETIRO_VOLUNTARIO\"].astype(\"int\")               #.astype, se utiliza para cambiar el tipo de dato\n",
        "\n",
        "retiros_reducido.sample(5)"
      ]
    },
    {
      "cell_type": "code",
      "execution_count": null,
      "metadata": {
        "colab": {
          "base_uri": "https://localhost:8080/"
        },
        "id": "UCKOZ5qT_nvt",
        "outputId": "526eed90-12d9-4fec-d369-39040f99e89f"
      },
      "outputs": [],
      "source": [
        "# Categoricas ordinales y target\n",
        "\n",
        "target = 'RETIRO_VOLUNTARIO'\n",
        "\n",
        "cols_categoric_ordinal = [\"AÑO\"]\n",
        "print(cols_categoric_ordinal)"
      ]
    },
    {
      "cell_type": "code",
      "execution_count": null,
      "metadata": {
        "colab": {
          "base_uri": "https://localhost:8080/"
        },
        "id": "BHU6RwueBrsl",
        "outputId": "1b728a45-54e3-40e7-8605-bd469d2f44a1"
      },
      "outputs": [],
      "source": [
        "# Columnas categóricas (no ordenadas)\n",
        "\n",
        "cols_categoric_nominales = retiros_reducido.select_dtypes(include=['object', 'category']).columns.tolist()   #se puede hacer con el código de las ordinales o con este, llamando directamente los object y categoricos\n",
        "cols_categoric_nominales"
      ]
    },
    {
      "cell_type": "code",
      "execution_count": null,
      "metadata": {
        "colab": {
          "base_uri": "https://localhost:8080/"
        },
        "id": "7IkgAeWtCzCH",
        "outputId": "ac63ed04-9eb4-48c4-9e00-b9374cb6f23c"
      },
      "outputs": [],
      "source": [
        "# Columnas fecha\n",
        "cols_fecha = retiros_reducido.select_dtypes(include=['datetime64[ns]']).columns.tolist()\n",
        "cols_fecha"
      ]
    },
    {
      "cell_type": "markdown",
      "metadata": {
        "id": "UoP6QGMKQLKU"
      },
      "source": [
        "# **PIPELINES**"
      ]
    },
    {
      "cell_type": "code",
      "execution_count": null,
      "metadata": {
        "id": "kjLfh55-ERMQ"
      },
      "outputs": [],
      "source": [
        "categorical_pipe = Pipeline(\n",
        "    steps=[\n",
        "        (\"imputer\", SimpleImputer(strategy=\"most_frequent\")),\n",
        "        (\"onehot\", OneHotEncoder()),\n",
        "    ]\n",
        ")"
      ]
    },
    {
      "cell_type": "code",
      "execution_count": null,
      "metadata": {
        "id": "x5mrzb2YVC81"
      },
      "outputs": [],
      "source": [
        "categorical_ord_pipe = Pipeline(\n",
        "    steps=[\n",
        "        (\"imputer\", SimpleImputer(strategy=\"most_frequent\")),\n",
        "        (\"ordinal\", OrdinalEncoder()),\n",
        "    ]\n",
        ")"
      ]
    },
    {
      "cell_type": "markdown",
      "metadata": {
        "id": "rTiAkfOnVGGU"
      },
      "source": [
        "# **PREPROCESADOR**"
      ]
    },
    {
      "cell_type": "code",
      "execution_count": null,
      "metadata": {
        "colab": {
          "base_uri": "https://localhost:8080/",
          "height": 188
        },
        "id": "9jDHnOjuVS9z",
        "outputId": "9383537a-0552-4aa7-f285-a0418d654e38"
      },
      "outputs": [],
      "source": [
        "preprocessor = ColumnTransformer(\n",
        "    transformers=[        (\"categoric\", categorical_pipe, cols_categoric_nominales),\n",
        "        (\"categoric ordinales\", categorical_ord_pipe, cols_categoric_ordinal),\n",
        "    ]\n",
        ")\n",
        "\n",
        "preprocessor"
      ]
    },
    {
      "cell_type": "markdown",
      "metadata": {
        "id": "M809Y5MoWKCY"
      },
      "source": [
        "# **Train / Test split**"
      ]
    },
    {
      "cell_type": "code",
      "execution_count": null,
      "metadata": {
        "id": "MIvvXg0DVhFh"
      },
      "outputs": [],
      "source": [
        "# conjunto de entrenamiento y de prueba\n",
        "\n",
        "X_features = retiros_reducido.drop(\"RETIRO_VOLUNTARIO\", axis=\"columns\")\n",
        "Y_target = retiros_reducido[\"RETIRO_VOLUNTARIO\"]"
      ]
    },
    {
      "cell_type": "code",
      "execution_count": null,
      "metadata": {
        "id": "tW078_CDWfiW"
      },
      "outputs": [],
      "source": [
        "# 80% train, 20% test\n",
        "\n",
        "x_train, x_test, y_train, y_test = train_test_split(\n",
        "    X_features, Y_target, test_size=0.2, stratify=Y_target\n",
        ")"
      ]
    },
    {
      "cell_type": "code",
      "execution_count": null,
      "metadata": {
        "colab": {
          "base_uri": "https://localhost:8080/"
        },
        "id": "oQqq_P8WWjwq",
        "outputId": "9647a6fa-a943-4ada-bbe4-e32cfe9a0aa4"
      },
      "outputs": [],
      "source": [
        "# Verificamos dimensiones\n",
        "\n",
        "x_train.shape, y_train.shape"
      ]
    },
    {
      "cell_type": "code",
      "execution_count": null,
      "metadata": {
        "colab": {
          "base_uri": "https://localhost:8080/"
        },
        "id": "UXk_qBMWWmjV",
        "outputId": "cc6a9323-71cf-4d3f-c3db-de340cc8a2fd"
      },
      "outputs": [],
      "source": [
        "# Verificamos dimensiones\n",
        "\n",
        "x_test.shape, y_test.shape"
      ]
    },
    {
      "cell_type": "markdown",
      "metadata": {
        "id": "krpweCgwXCoN"
      },
      "source": [
        "# **Preprocesamiento**"
      ]
    },
    {
      "cell_type": "code",
      "execution_count": null,
      "metadata": {
        "colab": {
          "base_uri": "https://localhost:8080/",
          "height": 188
        },
        "id": "ULHBosQUW7jU",
        "outputId": "472fc3ed-b90d-4515-f91a-ff5f32cff64d"
      },
      "outputs": [],
      "source": [
        "transformed_data = preprocessor.fit(x_train)\n",
        "\n",
        "transformed_data"
      ]
    },
    {
      "cell_type": "code",
      "execution_count": null,
      "metadata": {
        "colab": {
          "base_uri": "https://localhost:8080/"
        },
        "id": "ez6zkntTZPgq",
        "outputId": "229fe556-1f45-489d-8f54-ebefd2660a69"
      },
      "outputs": [],
      "source": [
        "feature_names = preprocessor.get_feature_names_out()\n",
        "\n",
        "feature_names"
      ]
    },
    {
      "cell_type": "markdown",
      "metadata": {
        "id": "zkYkUukMZdaH"
      },
      "source": [
        "Para ver con más detalle las transformaciones del one hote encoding, podemos convertir rápidamente en un dataframe las variables preprocesadas:"
      ]
    }
  ],
  "metadata": {
    "colab": {
      "provenance": []
    },
    "kernelspec": {
      "display_name": "Python 3",
      "name": "python3"
    },
    "language_info": {
      "name": "python",
      "version": "3.9.12"
    }
  },
  "nbformat": 4,
  "nbformat_minor": 0
}
