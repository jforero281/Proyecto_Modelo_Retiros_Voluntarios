{
  "cells": [
    {
      "cell_type": "code",
      "execution_count": 43,
      "metadata": {
        "id": "M3l4YLSaCBIi"
      },
      "outputs": [],
      "source": [
        "#Cargar las librerias necesarias para la ejecución del proyecto modelo de predicción de retiros voluntarios\n",
        "\n",
        "import pandas as pd\n",
        "import pandas as pd\n",
        "import numpy as np\n",
        "import seaborn as sns\n",
        "import matplotlib.pyplot as plt\n",
        "import plotly.express as px\n",
        "import plotly.figure_factory as ff"
      ]
    },
    {
      "cell_type": "code",
      "execution_count": 44,
      "metadata": {},
      "outputs": [
        {
          "data": {
            "text/html": [
              "<div>\n",
              "<style scoped>\n",
              "    .dataframe tbody tr th:only-of-type {\n",
              "        vertical-align: middle;\n",
              "    }\n",
              "\n",
              "    .dataframe tbody tr th {\n",
              "        vertical-align: top;\n",
              "    }\n",
              "\n",
              "    .dataframe thead th {\n",
              "        text-align: right;\n",
              "    }\n",
              "</style>\n",
              "<table border=\"1\" class=\"dataframe\">\n",
              "  <thead>\n",
              "    <tr style=\"text-align: right;\">\n",
              "      <th></th>\n",
              "      <th>ID_EMPLEADOS</th>\n",
              "      <th>COMPAÑÍA</th>\n",
              "      <th>CODIGO_AREA</th>\n",
              "      <th>AREA</th>\n",
              "      <th>CODIGO_CARGO</th>\n",
              "      <th>CARGO</th>\n",
              "      <th>REGION</th>\n",
              "      <th>FORMA_DE_TRABAJO</th>\n",
              "      <th>CLASE_DE_MEDIDA</th>\n",
              "      <th>MOTIVO_RETIRO</th>\n",
              "      <th>FECHA_DESDE</th>\n",
              "      <th>CODIGO_AREA_ANTERIOR</th>\n",
              "      <th>CODIGO_CARGO_ANTERIOR</th>\n",
              "      <th>AÑO</th>\n",
              "      <th>PERIODO</th>\n",
              "      <th>VP ACTUAL</th>\n",
              "      <th>VP ANT</th>\n",
              "      <th>2 ACT</th>\n",
              "      <th>2 ANT</th>\n",
              "      <th>3 ACT</th>\n",
              "      <th>3 ANT</th>\n",
              "      <th>4 ACT</th>\n",
              "      <th>4 ANT</th>\n",
              "      <th>5 ACT</th>\n",
              "      <th>5 ANT</th>\n",
              "      <th>NIVEL_DEL_CARGO</th>\n",
              "      <th>RED_DE_SUCURSALES</th>\n",
              "      <th>CARGO_ANTERIOR</th>\n",
              "      <th>COMPAÑÍA_AANTERIOR</th>\n",
              "      <th>NIVEL_DEL_CARGO_ANTERIOR</th>\n",
              "      <th>GÉNERO</th>\n",
              "    </tr>\n",
              "  </thead>\n",
              "  <tbody>\n",
              "    <tr>\n",
              "      <th>0</th>\n",
              "      <td>3239</td>\n",
              "      <td>Bancolombia S.A.</td>\n",
              "      <td>70005072</td>\n",
              "      <td>SUC ARMENIA CENTRO CCIAL 1</td>\n",
              "      <td>99999999</td>\n",
              "      <td>Integración: Posición por defecto</td>\n",
              "      <td>Sur</td>\n",
              "      <td>Convencionados (CO)</td>\n",
              "      <td>RETIRO (CO)</td>\n",
              "      <td>VOLUNTARIO ARREGLO MUTUO</td>\n",
              "      <td>31/03/2025</td>\n",
              "      <td>70005072.0</td>\n",
              "      <td>73929.0</td>\n",
              "      <td>2025</td>\n",
              "      <td>mar-25</td>\n",
              "      <td>VICEPRESIDENCIA DE NEGOCIOS</td>\n",
              "      <td>VICEPRESIDENCIA DE NEGOCIOS</td>\n",
              "      <td>VICEPRESIDENCIA NEGOCIOS PERSN PYME EMP</td>\n",
              "      <td>VICEPRESIDENCIA NEGOCIOS PERSN PYME EMP</td>\n",
              "      <td>VICEPRESIDENCIA PERSONAS Y PYME SUR</td>\n",
              "      <td>VICEPRESIDENCIA PERSONAS Y PYME SUR</td>\n",
              "      <td>GCIA ZONA QUINDIO Y NORTE DEL VALLE</td>\n",
              "      <td>GCIA ZONA QUINDIO Y NORTE DEL VALLE</td>\n",
              "      <td>SUC ARMENIA CENTRO</td>\n",
              "      <td>SUC ARMENIA CENTRO</td>\n",
              "      <td>NaN</td>\n",
              "      <td>NaN</td>\n",
              "      <td>ASESOR/A COMERCIAL MULTISEGMENTO</td>\n",
              "      <td>Bancolombia S.A.</td>\n",
              "      <td>OPERATIVO</td>\n",
              "      <td>masculino</td>\n",
              "    </tr>\n",
              "    <tr>\n",
              "      <th>1</th>\n",
              "      <td>6119</td>\n",
              "      <td>Bancolombia S.A.</td>\n",
              "      <td>2738</td>\n",
              "      <td>SUC BANCA COLOMBIA OVIEDO DS</td>\n",
              "      <td>99999999</td>\n",
              "      <td>Integración: Posición por defecto</td>\n",
              "      <td>Antioquia</td>\n",
              "      <td>No Convencionad (CO)</td>\n",
              "      <td>RETIRO (CO)</td>\n",
              "      <td>VOLUNTARIO ARREGLO MUTUO</td>\n",
              "      <td>31/03/2025</td>\n",
              "      <td>2738.0</td>\n",
              "      <td>28681.0</td>\n",
              "      <td>2025</td>\n",
              "      <td>mar-25</td>\n",
              "      <td>VICEPRESIDENCIA DE NEGOCIOS</td>\n",
              "      <td>VICEPRESIDENCIA DE NEGOCIOS</td>\n",
              "      <td>VICEPRESIDENCIA NEGOCIOS PERSN PYME EMP</td>\n",
              "      <td>VICEPRESIDENCIA NEGOCIOS PERSN PYME EMP</td>\n",
              "      <td>VICEPRESIDENCIA PERSONAS Y PYME ANTIOQUI</td>\n",
              "      <td>VICEPRESIDENCIA PERSONAS Y PYME ANTIOQUI</td>\n",
              "      <td>GCIA ZONA PREFERENCIAL BPP ANTIOQUIA</td>\n",
              "      <td>GCIA ZONA PREFERENCIAL BPP ANTIOQUIA</td>\n",
              "      <td>SUC BANCA COLOMBIA OVIEDO</td>\n",
              "      <td>SUC BANCA COLOMBIA OVIEDO</td>\n",
              "      <td>NaN</td>\n",
              "      <td>NaN</td>\n",
              "      <td>SUBGERENTE/A</td>\n",
              "      <td>Bancolombia S.A.</td>\n",
              "      <td>PROFESIONAL</td>\n",
              "      <td>femenino</td>\n",
              "    </tr>\n",
              "    <tr>\n",
              "      <th>2</th>\n",
              "      <td>10332</td>\n",
              "      <td>Bancolombia S.A.</td>\n",
              "      <td>70005179</td>\n",
              "      <td>SUC CALASANZ CCIAL 1</td>\n",
              "      <td>99999999</td>\n",
              "      <td>Integración: Posición por defecto</td>\n",
              "      <td>Antioquia</td>\n",
              "      <td>Convencionados (CO)</td>\n",
              "      <td>RETIRO (CO)</td>\n",
              "      <td>VOLUNTARIO ARREGLO MUTUO</td>\n",
              "      <td>31/03/2025</td>\n",
              "      <td>70005179.0</td>\n",
              "      <td>54910.0</td>\n",
              "      <td>2025</td>\n",
              "      <td>mar-25</td>\n",
              "      <td>VICEPRESIDENCIA DE NEGOCIOS</td>\n",
              "      <td>VICEPRESIDENCIA DE NEGOCIOS</td>\n",
              "      <td>VICEPRESIDENCIA NEGOCIOS PERSN PYME EMP</td>\n",
              "      <td>VICEPRESIDENCIA NEGOCIOS PERSN PYME EMP</td>\n",
              "      <td>VICEPRESIDENCIA PERSONAS Y PYME ANTIOQUI</td>\n",
              "      <td>VICEPRESIDENCIA PERSONAS Y PYME ANTIOQUI</td>\n",
              "      <td>GCIA ZONA OCCIDENTE BPP ANTIOQUIA</td>\n",
              "      <td>GCIA ZONA OCCIDENTE BPP ANTIOQUIA</td>\n",
              "      <td>SUC CALASANZ</td>\n",
              "      <td>SUC CALASANZ</td>\n",
              "      <td>NaN</td>\n",
              "      <td>NaN</td>\n",
              "      <td>ASESOR/A COMERCIAL PYME</td>\n",
              "      <td>Bancolombia S.A.</td>\n",
              "      <td>OPERATIVO</td>\n",
              "      <td>femenino</td>\n",
              "    </tr>\n",
              "    <tr>\n",
              "      <th>3</th>\n",
              "      <td>14050</td>\n",
              "      <td>Bancolombia S.A.</td>\n",
              "      <td>1005</td>\n",
              "      <td>SUC PUERTO LOPEZ</td>\n",
              "      <td>99999999</td>\n",
              "      <td>Integración: Posición por defecto</td>\n",
              "      <td>Centro</td>\n",
              "      <td>Convencionados (CO)</td>\n",
              "      <td>RETIRO (CO)</td>\n",
              "      <td>VOLUNTARIO ARREGLO MUTUO</td>\n",
              "      <td>31/03/2025</td>\n",
              "      <td>1005.0</td>\n",
              "      <td>67260.0</td>\n",
              "      <td>2025</td>\n",
              "      <td>mar-25</td>\n",
              "      <td>VICEPRESIDENCIA DE NEGOCIOS</td>\n",
              "      <td>VICEPRESIDENCIA DE NEGOCIOS</td>\n",
              "      <td>VICEPRESIDENCIA NEGOCIOS PERSN PYME EMP</td>\n",
              "      <td>VICEPRESIDENCIA NEGOCIOS PERSN PYME EMP</td>\n",
              "      <td>VICEPRESIDENCIA PERSONAS Y PYME CENTRO</td>\n",
              "      <td>VICEPRESIDENCIA PERSONAS Y PYME CENTRO</td>\n",
              "      <td>GCIA ZONA ORINOQUIA Y AMAZONIA BPP CENTR</td>\n",
              "      <td>GCIA ZONA ORINOQUIA Y AMAZONIA BPP CENTR</td>\n",
              "      <td>SUC PUERTO LOPEZ</td>\n",
              "      <td>SUC PUERTO LOPEZ</td>\n",
              "      <td>NaN</td>\n",
              "      <td>NaN</td>\n",
              "      <td>ASESOR/A COMERCIAL MULTISEGMENTO</td>\n",
              "      <td>Bancolombia S.A.</td>\n",
              "      <td>OPERATIVO</td>\n",
              "      <td>femenino</td>\n",
              "    </tr>\n",
              "    <tr>\n",
              "      <th>4</th>\n",
              "      <td>15715</td>\n",
              "      <td>Bancolombia S.A.</td>\n",
              "      <td>2115</td>\n",
              "      <td>SUC BELLO DS</td>\n",
              "      <td>99999999</td>\n",
              "      <td>Integración: Posición por defecto</td>\n",
              "      <td>Antioquia</td>\n",
              "      <td>Convencionados (CO)</td>\n",
              "      <td>RETIRO (CO)</td>\n",
              "      <td>VOLUNTARIO ARREGLO MUTUO</td>\n",
              "      <td>31/03/2025</td>\n",
              "      <td>2115.0</td>\n",
              "      <td>52493.0</td>\n",
              "      <td>2025</td>\n",
              "      <td>mar-25</td>\n",
              "      <td>VICEPRESIDENCIA DE NEGOCIOS</td>\n",
              "      <td>VICEPRESIDENCIA DE NEGOCIOS</td>\n",
              "      <td>VICEPRESIDENCIA NEGOCIOS PERSN PYME EMP</td>\n",
              "      <td>VICEPRESIDENCIA NEGOCIOS PERSN PYME EMP</td>\n",
              "      <td>VICEPRESIDENCIA PERSONAS Y PYME ANTIOQUI</td>\n",
              "      <td>VICEPRESIDENCIA PERSONAS Y PYME ANTIOQUI</td>\n",
              "      <td>GCIA ZONA NORTE Y CHOCO BPP ANTIOQUIA</td>\n",
              "      <td>GCIA ZONA NORTE Y CHOCO BPP ANTIOQUIA</td>\n",
              "      <td>SUC BELLO</td>\n",
              "      <td>SUC BELLO</td>\n",
              "      <td>NaN</td>\n",
              "      <td>NaN</td>\n",
              "      <td>ASESOR/A COMERCIAL MULTISEGMENTO</td>\n",
              "      <td>Bancolombia S.A.</td>\n",
              "      <td>OPERATIVO</td>\n",
              "      <td>femenino</td>\n",
              "    </tr>\n",
              "    <tr>\n",
              "      <th>5</th>\n",
              "      <td>19401</td>\n",
              "      <td>Valores Bancolombia S.A.</td>\n",
              "      <td>70004166</td>\n",
              "      <td>GCIA CCIAL BANCA PRIVADA ANTIOQUIA 2</td>\n",
              "      <td>99999999</td>\n",
              "      <td>Integración: Posición por defecto</td>\n",
              "      <td>Antioquia</td>\n",
              "      <td>No Convencionad (CO)</td>\n",
              "      <td>RETIRO (CO)</td>\n",
              "      <td>RETIRO VOLUNTARIO</td>\n",
              "      <td>31/03/2025</td>\n",
              "      <td>70004166.0</td>\n",
              "      <td>22852.0</td>\n",
              "      <td>2025</td>\n",
              "      <td>mar-25</td>\n",
              "      <td>VICEPRESIDENCIA DE NEGOCIOS</td>\n",
              "      <td>VICEPRESIDENCIA DE NEGOCIOS</td>\n",
              "      <td>VICEPRESIDENCIA GESTION DE INVERSIONES</td>\n",
              "      <td>VICEPRESIDENCIA GESTION DE INVERSIONES</td>\n",
              "      <td>VICEPRESIDENCIA COMERCIAL DE INVERSIONES</td>\n",
              "      <td>VICEPRESIDENCIA COMERCIAL DE INVERSIONES</td>\n",
              "      <td>GCIA REGIONAL PRIV PREF ANTIOQUIA</td>\n",
              "      <td>GCIA REGIONAL PRIV PREF ANTIOQUIA</td>\n",
              "      <td>GCIA CCIAL BANCA PRIVADA ANTIOQUIA 2</td>\n",
              "      <td>GCIA CCIAL BANCA PRIVADA ANTIOQUIA 2</td>\n",
              "      <td>NaN</td>\n",
              "      <td>NaN</td>\n",
              "      <td>GERENTE/A BANCA PRIVADA</td>\n",
              "      <td>Valores Bancolombia S.A.</td>\n",
              "      <td>ESTRATEGICO MEDIO</td>\n",
              "      <td>femenino</td>\n",
              "    </tr>\n",
              "    <tr>\n",
              "      <th>6</th>\n",
              "      <td>21439</td>\n",
              "      <td>Bancolombia S.A.</td>\n",
              "      <td>1182</td>\n",
              "      <td>SERVICIO SUC BOGOTA CENTRO</td>\n",
              "      <td>99999999</td>\n",
              "      <td>Integración: Posición por defecto</td>\n",
              "      <td>Bogota y sabana</td>\n",
              "      <td>Convencionados (CO)</td>\n",
              "      <td>RETIRO (CO)</td>\n",
              "      <td>VOLUNTARIO ARREGLO MUTUO</td>\n",
              "      <td>31/03/2025</td>\n",
              "      <td>1182.0</td>\n",
              "      <td>4360.0</td>\n",
              "      <td>2025</td>\n",
              "      <td>mar-25</td>\n",
              "      <td>VICEPRESIDENCIA DE NEGOCIOS</td>\n",
              "      <td>VICEPRESIDENCIA DE NEGOCIOS</td>\n",
              "      <td>VICEPRESIDENCIA NEGOCIOS PERSN PYME EMP</td>\n",
              "      <td>VICEPRESIDENCIA NEGOCIOS PERSN PYME EMP</td>\n",
              "      <td>VICEPRESIDENCIA PERSONAS Y PYME BOGOTA</td>\n",
              "      <td>VICEPRESIDENCIA PERSONAS Y PYME BOGOTA</td>\n",
              "      <td>GCIA SERVICIO EN SUCURSALES BOGOTA</td>\n",
              "      <td>GCIA SERVICIO EN SUCURSALES BOGOTA</td>\n",
              "      <td>SERVICIO SUC BOGOTA CENTRO</td>\n",
              "      <td>SERVICIO SUC BOGOTA CENTRO</td>\n",
              "      <td>NaN</td>\n",
              "      <td>NaN</td>\n",
              "      <td>SUPERNUMERARIO/A</td>\n",
              "      <td>Bancolombia S.A.</td>\n",
              "      <td>OPERATIVO</td>\n",
              "      <td>femenino</td>\n",
              "    </tr>\n",
              "    <tr>\n",
              "      <th>7</th>\n",
              "      <td>25323</td>\n",
              "      <td>Valores Bancolombia S.A.</td>\n",
              "      <td>70004188</td>\n",
              "      <td>GCIA CCIAL ACCIONES MEDELLIN 3</td>\n",
              "      <td>99999999</td>\n",
              "      <td>Integración: Posición por defecto</td>\n",
              "      <td>Antioquia</td>\n",
              "      <td>No Convencionad (CO)</td>\n",
              "      <td>RETIRO (CO)</td>\n",
              "      <td>VOLUNTARIO ARREGLO MUTUO</td>\n",
              "      <td>31/03/2025</td>\n",
              "      <td>70004188.0</td>\n",
              "      <td>22849.0</td>\n",
              "      <td>2025</td>\n",
              "      <td>mar-25</td>\n",
              "      <td>VICEPRESIDENCIA DE NEGOCIOS</td>\n",
              "      <td>VICEPRESIDENCIA DE NEGOCIOS</td>\n",
              "      <td>VICEPRESIDENCIA GESTION DE INVERSIONES</td>\n",
              "      <td>VICEPRESIDENCIA GESTION DE INVERSIONES</td>\n",
              "      <td>VICEPRESIDENCIA COMERCIAL DE INVERSIONES</td>\n",
              "      <td>VICEPRESIDENCIA COMERCIAL DE INVERSIONES</td>\n",
              "      <td>GCIA NACIONAL CLIENTES INSTITUCIONALES</td>\n",
              "      <td>GCIA NACIONAL CLIENTES INSTITUCIONALES</td>\n",
              "      <td>GCIA CCIAL ACCIONES MEDELLIN 3</td>\n",
              "      <td>GCIA CCIAL ACCIONES MEDELLIN 3</td>\n",
              "      <td>NaN</td>\n",
              "      <td>NaN</td>\n",
              "      <td>GERENTE/A COMERCIAL</td>\n",
              "      <td>Valores Bancolombia S.A.</td>\n",
              "      <td>ESTRATEGICO MEDIO</td>\n",
              "      <td>masculino</td>\n",
              "    </tr>\n",
              "    <tr>\n",
              "      <th>8</th>\n",
              "      <td>47241</td>\n",
              "      <td>Bancolombia S.A.</td>\n",
              "      <td>70005312</td>\n",
              "      <td>LDC ANALISIS INTEGRACION Y DATOS 6 TI</td>\n",
              "      <td>99999999</td>\n",
              "      <td>Integración: Posición por defecto</td>\n",
              "      <td>Antioquia</td>\n",
              "      <td>No Convencionad (CO)</td>\n",
              "      <td>RETIRO (CO)</td>\n",
              "      <td>RETIRO VOLUNTARIO</td>\n",
              "      <td>31/03/2025</td>\n",
              "      <td>70005312.0</td>\n",
              "      <td>10356.0</td>\n",
              "      <td>2025</td>\n",
              "      <td>mar-25</td>\n",
              "      <td>VICEPRESIDENCIA SERVICIOS CORPORATIVOS</td>\n",
              "      <td>VICEPRESIDENCIA SERVICIOS CORPORATIVOS</td>\n",
              "      <td>VICEPRESIDENCIA SERV DE TECNOLOGIA</td>\n",
              "      <td>VICEPRESIDENCIA SERV DE TECNOLOGIA</td>\n",
              "      <td>ENTORNO DATOS INTEGRACION E IA TI</td>\n",
              "      <td>ENTORNO DATOS INTEGRACION E IA TI</td>\n",
              "      <td>EVC SERV E INTEG GBNO APIS TI</td>\n",
              "      <td>EVC SERV E INTEG GBNO APIS TI</td>\n",
              "      <td>ADC ANALISIS INTEGRACION Y DATOS TI</td>\n",
              "      <td>ADC ANALISIS INTEGRACION Y DATOS TI</td>\n",
              "      <td>NaN</td>\n",
              "      <td>NaN</td>\n",
              "      <td>LIDER LINEA DE CONOCIMIENTO</td>\n",
              "      <td>Bancolombia S.A.</td>\n",
              "      <td>PROFESIONAL</td>\n",
              "      <td>femenino</td>\n",
              "    </tr>\n",
              "    <tr>\n",
              "      <th>9</th>\n",
              "      <td>48330</td>\n",
              "      <td>Bancolombia S.A.</td>\n",
              "      <td>935</td>\n",
              "      <td>SERVICIO SUC CENTRO SURCOLOMBIANA</td>\n",
              "      <td>99999999</td>\n",
              "      <td>Integración: Posición por defecto</td>\n",
              "      <td>Centro</td>\n",
              "      <td>Convencionados (CO)</td>\n",
              "      <td>RETIRO (CO)</td>\n",
              "      <td>RETIRO VOLUNTARIO</td>\n",
              "      <td>31/03/2025</td>\n",
              "      <td>935.0</td>\n",
              "      <td>95286.0</td>\n",
              "      <td>2025</td>\n",
              "      <td>mar-25</td>\n",
              "      <td>VICEPRESIDENCIA DE NEGOCIOS</td>\n",
              "      <td>VICEPRESIDENCIA DE NEGOCIOS</td>\n",
              "      <td>VICEPRESIDENCIA NEGOCIOS PERSN PYME EMP</td>\n",
              "      <td>VICEPRESIDENCIA NEGOCIOS PERSN PYME EMP</td>\n",
              "      <td>VICEPRESIDENCIA PERSONAS Y PYME CENTRO</td>\n",
              "      <td>VICEPRESIDENCIA PERSONAS Y PYME CENTRO</td>\n",
              "      <td>GCIA SERVICIO EN SUCURSALES CENTRO</td>\n",
              "      <td>GCIA SERVICIO EN SUCURSALES CENTRO</td>\n",
              "      <td>SERVICIO SUC CENTRO SURCOLOMBIANA</td>\n",
              "      <td>SERVICIO SUC CENTRO SURCOLOMBIANA</td>\n",
              "      <td>NaN</td>\n",
              "      <td>NaN</td>\n",
              "      <td>SUPERNUMERARIO/A</td>\n",
              "      <td>Bancolombia S.A.</td>\n",
              "      <td>OPERATIVO</td>\n",
              "      <td>femenino</td>\n",
              "    </tr>\n",
              "  </tbody>\n",
              "</table>\n",
              "</div>"
            ],
            "text/plain": [
              "   ID_EMPLEADOS                  COMPAÑÍA  CODIGO_AREA  \\\n",
              "0          3239          Bancolombia S.A.     70005072   \n",
              "1          6119          Bancolombia S.A.         2738   \n",
              "2         10332          Bancolombia S.A.     70005179   \n",
              "3         14050          Bancolombia S.A.         1005   \n",
              "4         15715          Bancolombia S.A.         2115   \n",
              "5         19401  Valores Bancolombia S.A.     70004166   \n",
              "6         21439          Bancolombia S.A.         1182   \n",
              "7         25323  Valores Bancolombia S.A.     70004188   \n",
              "8         47241          Bancolombia S.A.     70005312   \n",
              "9         48330          Bancolombia S.A.          935   \n",
              "\n",
              "                                    AREA  CODIGO_CARGO  \\\n",
              "0             SUC ARMENIA CENTRO CCIAL 1      99999999   \n",
              "1           SUC BANCA COLOMBIA OVIEDO DS      99999999   \n",
              "2                   SUC CALASANZ CCIAL 1      99999999   \n",
              "3                       SUC PUERTO LOPEZ      99999999   \n",
              "4                           SUC BELLO DS      99999999   \n",
              "5   GCIA CCIAL BANCA PRIVADA ANTIOQUIA 2      99999999   \n",
              "6             SERVICIO SUC BOGOTA CENTRO      99999999   \n",
              "7         GCIA CCIAL ACCIONES MEDELLIN 3      99999999   \n",
              "8  LDC ANALISIS INTEGRACION Y DATOS 6 TI      99999999   \n",
              "9      SERVICIO SUC CENTRO SURCOLOMBIANA      99999999   \n",
              "\n",
              "                               CARGO           REGION      FORMA_DE_TRABAJO  \\\n",
              "0  Integración: Posición por defecto              Sur   Convencionados (CO)   \n",
              "1  Integración: Posición por defecto        Antioquia  No Convencionad (CO)   \n",
              "2  Integración: Posición por defecto        Antioquia   Convencionados (CO)   \n",
              "3  Integración: Posición por defecto           Centro   Convencionados (CO)   \n",
              "4  Integración: Posición por defecto        Antioquia   Convencionados (CO)   \n",
              "5  Integración: Posición por defecto        Antioquia  No Convencionad (CO)   \n",
              "6  Integración: Posición por defecto  Bogota y sabana   Convencionados (CO)   \n",
              "7  Integración: Posición por defecto        Antioquia  No Convencionad (CO)   \n",
              "8  Integración: Posición por defecto        Antioquia  No Convencionad (CO)   \n",
              "9  Integración: Posición por defecto           Centro   Convencionados (CO)   \n",
              "\n",
              "  CLASE_DE_MEDIDA             MOTIVO_RETIRO FECHA_DESDE  CODIGO_AREA_ANTERIOR  \\\n",
              "0     RETIRO (CO)  VOLUNTARIO ARREGLO MUTUO  31/03/2025            70005072.0   \n",
              "1     RETIRO (CO)  VOLUNTARIO ARREGLO MUTUO  31/03/2025                2738.0   \n",
              "2     RETIRO (CO)  VOLUNTARIO ARREGLO MUTUO  31/03/2025            70005179.0   \n",
              "3     RETIRO (CO)  VOLUNTARIO ARREGLO MUTUO  31/03/2025                1005.0   \n",
              "4     RETIRO (CO)  VOLUNTARIO ARREGLO MUTUO  31/03/2025                2115.0   \n",
              "5     RETIRO (CO)         RETIRO VOLUNTARIO  31/03/2025            70004166.0   \n",
              "6     RETIRO (CO)  VOLUNTARIO ARREGLO MUTUO  31/03/2025                1182.0   \n",
              "7     RETIRO (CO)  VOLUNTARIO ARREGLO MUTUO  31/03/2025            70004188.0   \n",
              "8     RETIRO (CO)         RETIRO VOLUNTARIO  31/03/2025            70005312.0   \n",
              "9     RETIRO (CO)         RETIRO VOLUNTARIO  31/03/2025                 935.0   \n",
              "\n",
              "   CODIGO_CARGO_ANTERIOR   AÑO PERIODO  \\\n",
              "0                73929.0  2025  mar-25   \n",
              "1                28681.0  2025  mar-25   \n",
              "2                54910.0  2025  mar-25   \n",
              "3                67260.0  2025  mar-25   \n",
              "4                52493.0  2025  mar-25   \n",
              "5                22852.0  2025  mar-25   \n",
              "6                 4360.0  2025  mar-25   \n",
              "7                22849.0  2025  mar-25   \n",
              "8                10356.0  2025  mar-25   \n",
              "9                95286.0  2025  mar-25   \n",
              "\n",
              "                                VP ACTUAL  \\\n",
              "0             VICEPRESIDENCIA DE NEGOCIOS   \n",
              "1             VICEPRESIDENCIA DE NEGOCIOS   \n",
              "2             VICEPRESIDENCIA DE NEGOCIOS   \n",
              "3             VICEPRESIDENCIA DE NEGOCIOS   \n",
              "4             VICEPRESIDENCIA DE NEGOCIOS   \n",
              "5             VICEPRESIDENCIA DE NEGOCIOS   \n",
              "6             VICEPRESIDENCIA DE NEGOCIOS   \n",
              "7             VICEPRESIDENCIA DE NEGOCIOS   \n",
              "8  VICEPRESIDENCIA SERVICIOS CORPORATIVOS   \n",
              "9             VICEPRESIDENCIA DE NEGOCIOS   \n",
              "\n",
              "                                   VP ANT  \\\n",
              "0             VICEPRESIDENCIA DE NEGOCIOS   \n",
              "1             VICEPRESIDENCIA DE NEGOCIOS   \n",
              "2             VICEPRESIDENCIA DE NEGOCIOS   \n",
              "3             VICEPRESIDENCIA DE NEGOCIOS   \n",
              "4             VICEPRESIDENCIA DE NEGOCIOS   \n",
              "5             VICEPRESIDENCIA DE NEGOCIOS   \n",
              "6             VICEPRESIDENCIA DE NEGOCIOS   \n",
              "7             VICEPRESIDENCIA DE NEGOCIOS   \n",
              "8  VICEPRESIDENCIA SERVICIOS CORPORATIVOS   \n",
              "9             VICEPRESIDENCIA DE NEGOCIOS   \n",
              "\n",
              "                                     2 ACT  \\\n",
              "0  VICEPRESIDENCIA NEGOCIOS PERSN PYME EMP   \n",
              "1  VICEPRESIDENCIA NEGOCIOS PERSN PYME EMP   \n",
              "2  VICEPRESIDENCIA NEGOCIOS PERSN PYME EMP   \n",
              "3  VICEPRESIDENCIA NEGOCIOS PERSN PYME EMP   \n",
              "4  VICEPRESIDENCIA NEGOCIOS PERSN PYME EMP   \n",
              "5   VICEPRESIDENCIA GESTION DE INVERSIONES   \n",
              "6  VICEPRESIDENCIA NEGOCIOS PERSN PYME EMP   \n",
              "7   VICEPRESIDENCIA GESTION DE INVERSIONES   \n",
              "8       VICEPRESIDENCIA SERV DE TECNOLOGIA   \n",
              "9  VICEPRESIDENCIA NEGOCIOS PERSN PYME EMP   \n",
              "\n",
              "                                     2 ANT  \\\n",
              "0  VICEPRESIDENCIA NEGOCIOS PERSN PYME EMP   \n",
              "1  VICEPRESIDENCIA NEGOCIOS PERSN PYME EMP   \n",
              "2  VICEPRESIDENCIA NEGOCIOS PERSN PYME EMP   \n",
              "3  VICEPRESIDENCIA NEGOCIOS PERSN PYME EMP   \n",
              "4  VICEPRESIDENCIA NEGOCIOS PERSN PYME EMP   \n",
              "5   VICEPRESIDENCIA GESTION DE INVERSIONES   \n",
              "6  VICEPRESIDENCIA NEGOCIOS PERSN PYME EMP   \n",
              "7   VICEPRESIDENCIA GESTION DE INVERSIONES   \n",
              "8       VICEPRESIDENCIA SERV DE TECNOLOGIA   \n",
              "9  VICEPRESIDENCIA NEGOCIOS PERSN PYME EMP   \n",
              "\n",
              "                                      3 ACT  \\\n",
              "0       VICEPRESIDENCIA PERSONAS Y PYME SUR   \n",
              "1  VICEPRESIDENCIA PERSONAS Y PYME ANTIOQUI   \n",
              "2  VICEPRESIDENCIA PERSONAS Y PYME ANTIOQUI   \n",
              "3    VICEPRESIDENCIA PERSONAS Y PYME CENTRO   \n",
              "4  VICEPRESIDENCIA PERSONAS Y PYME ANTIOQUI   \n",
              "5  VICEPRESIDENCIA COMERCIAL DE INVERSIONES   \n",
              "6    VICEPRESIDENCIA PERSONAS Y PYME BOGOTA   \n",
              "7  VICEPRESIDENCIA COMERCIAL DE INVERSIONES   \n",
              "8         ENTORNO DATOS INTEGRACION E IA TI   \n",
              "9    VICEPRESIDENCIA PERSONAS Y PYME CENTRO   \n",
              "\n",
              "                                      3 ANT  \\\n",
              "0       VICEPRESIDENCIA PERSONAS Y PYME SUR   \n",
              "1  VICEPRESIDENCIA PERSONAS Y PYME ANTIOQUI   \n",
              "2  VICEPRESIDENCIA PERSONAS Y PYME ANTIOQUI   \n",
              "3    VICEPRESIDENCIA PERSONAS Y PYME CENTRO   \n",
              "4  VICEPRESIDENCIA PERSONAS Y PYME ANTIOQUI   \n",
              "5  VICEPRESIDENCIA COMERCIAL DE INVERSIONES   \n",
              "6    VICEPRESIDENCIA PERSONAS Y PYME BOGOTA   \n",
              "7  VICEPRESIDENCIA COMERCIAL DE INVERSIONES   \n",
              "8         ENTORNO DATOS INTEGRACION E IA TI   \n",
              "9    VICEPRESIDENCIA PERSONAS Y PYME CENTRO   \n",
              "\n",
              "                                      4 ACT  \\\n",
              "0       GCIA ZONA QUINDIO Y NORTE DEL VALLE   \n",
              "1      GCIA ZONA PREFERENCIAL BPP ANTIOQUIA   \n",
              "2         GCIA ZONA OCCIDENTE BPP ANTIOQUIA   \n",
              "3  GCIA ZONA ORINOQUIA Y AMAZONIA BPP CENTR   \n",
              "4     GCIA ZONA NORTE Y CHOCO BPP ANTIOQUIA   \n",
              "5         GCIA REGIONAL PRIV PREF ANTIOQUIA   \n",
              "6        GCIA SERVICIO EN SUCURSALES BOGOTA   \n",
              "7    GCIA NACIONAL CLIENTES INSTITUCIONALES   \n",
              "8             EVC SERV E INTEG GBNO APIS TI   \n",
              "9        GCIA SERVICIO EN SUCURSALES CENTRO   \n",
              "\n",
              "                                      4 ANT  \\\n",
              "0       GCIA ZONA QUINDIO Y NORTE DEL VALLE   \n",
              "1      GCIA ZONA PREFERENCIAL BPP ANTIOQUIA   \n",
              "2         GCIA ZONA OCCIDENTE BPP ANTIOQUIA   \n",
              "3  GCIA ZONA ORINOQUIA Y AMAZONIA BPP CENTR   \n",
              "4     GCIA ZONA NORTE Y CHOCO BPP ANTIOQUIA   \n",
              "5         GCIA REGIONAL PRIV PREF ANTIOQUIA   \n",
              "6        GCIA SERVICIO EN SUCURSALES BOGOTA   \n",
              "7    GCIA NACIONAL CLIENTES INSTITUCIONALES   \n",
              "8             EVC SERV E INTEG GBNO APIS TI   \n",
              "9        GCIA SERVICIO EN SUCURSALES CENTRO   \n",
              "\n",
              "                                  5 ACT                                 5 ANT  \\\n",
              "0                    SUC ARMENIA CENTRO                    SUC ARMENIA CENTRO   \n",
              "1             SUC BANCA COLOMBIA OVIEDO             SUC BANCA COLOMBIA OVIEDO   \n",
              "2                          SUC CALASANZ                          SUC CALASANZ   \n",
              "3                      SUC PUERTO LOPEZ                      SUC PUERTO LOPEZ   \n",
              "4                             SUC BELLO                             SUC BELLO   \n",
              "5  GCIA CCIAL BANCA PRIVADA ANTIOQUIA 2  GCIA CCIAL BANCA PRIVADA ANTIOQUIA 2   \n",
              "6            SERVICIO SUC BOGOTA CENTRO            SERVICIO SUC BOGOTA CENTRO   \n",
              "7        GCIA CCIAL ACCIONES MEDELLIN 3        GCIA CCIAL ACCIONES MEDELLIN 3   \n",
              "8   ADC ANALISIS INTEGRACION Y DATOS TI   ADC ANALISIS INTEGRACION Y DATOS TI   \n",
              "9     SERVICIO SUC CENTRO SURCOLOMBIANA     SERVICIO SUC CENTRO SURCOLOMBIANA   \n",
              "\n",
              "  NIVEL_DEL_CARGO RED_DE_SUCURSALES                    CARGO_ANTERIOR  \\\n",
              "0             NaN               NaN  ASESOR/A COMERCIAL MULTISEGMENTO   \n",
              "1             NaN               NaN                      SUBGERENTE/A   \n",
              "2             NaN               NaN           ASESOR/A COMERCIAL PYME   \n",
              "3             NaN               NaN  ASESOR/A COMERCIAL MULTISEGMENTO   \n",
              "4             NaN               NaN  ASESOR/A COMERCIAL MULTISEGMENTO   \n",
              "5             NaN               NaN           GERENTE/A BANCA PRIVADA   \n",
              "6             NaN               NaN                  SUPERNUMERARIO/A   \n",
              "7             NaN               NaN               GERENTE/A COMERCIAL   \n",
              "8             NaN               NaN       LIDER LINEA DE CONOCIMIENTO   \n",
              "9             NaN               NaN                  SUPERNUMERARIO/A   \n",
              "\n",
              "         COMPAÑÍA_AANTERIOR NIVEL_DEL_CARGO_ANTERIOR     GÉNERO  \n",
              "0          Bancolombia S.A.                OPERATIVO  masculino  \n",
              "1          Bancolombia S.A.              PROFESIONAL   femenino  \n",
              "2          Bancolombia S.A.                OPERATIVO   femenino  \n",
              "3          Bancolombia S.A.                OPERATIVO   femenino  \n",
              "4          Bancolombia S.A.                OPERATIVO   femenino  \n",
              "5  Valores Bancolombia S.A.        ESTRATEGICO MEDIO   femenino  \n",
              "6          Bancolombia S.A.                OPERATIVO   femenino  \n",
              "7  Valores Bancolombia S.A.        ESTRATEGICO MEDIO  masculino  \n",
              "8          Bancolombia S.A.              PROFESIONAL   femenino  \n",
              "9          Bancolombia S.A.                OPERATIVO   femenino  "
            ]
          },
          "execution_count": 44,
          "metadata": {},
          "output_type": "execute_result"
        }
      ],
      "source": [
        "#Cargar la base de datos con la cual vamos a trabajar en el proyecto\n",
        "#Conocer 10 de los registros para entender la estructura de la base de datos\n",
        "\n",
        "retiros=pd.read_csv(\"C:/Users/jforero/OneDrive - Grupo Bancolombia/91. Universidad - Especialización/Proyecto_Final_Retiros_Voluntarios/Retiros_historicos.csv\")\n",
        "retiros.head(10)"
      ]
    },
    {
      "cell_type": "markdown",
      "metadata": {},
      "source": [
        "# DESCRIPCION DE LAS FEATURES DE DATASET DE LAS NOVEDADES DE LOS EMPLEADOS:\n",
        "\n",
        "ID_EMPLEADOS: Es el código único del empleados, sirve como identificador\n",
        "\n",
        "COMPAÑÍA: Internamente la organización tiene varias subcompañias, acá el nombre de cada una\n",
        "\n",
        "CODIGO_AREA: Es el código con el cual se identifica el área donde trabaja el empleado\n",
        "\n",
        "AREA: Es la descripción del área donde trabaja el empleado\n",
        "\n",
        "CODIGO_CARGO: Es el código con el cual se identifica el cargo del empleado\n",
        "\n",
        "CARGO:Es la descripción del cargo donde trabaja el empleado\n",
        "\n",
        "REGION: Esta distribuido en las 5 regiones de Colombia\n",
        "\n",
        "FORMA_DE_TRABAJO: clasificación de organización, entre empleados operativos (convencionados) o  profesionales (no convencionados, en transición)\n",
        "\n",
        "CLASE_DE_MEDIDA: Es la novedad que se le aplica al empleado de acuerdo a: contratación, retiro, impacto salarial, ascenso o traslado horizontal.\n",
        "\n",
        "MOTIVO_RETIRO: Es el motivo detallado de la clase de medida\n",
        "\n",
        "FECHA_DESDE: Es la fecha exacta en la cual se aplica la novedad del empleado\n",
        "\n",
        "CODIGO_AREA_ANTERIOR:  Es el código con el cual se identifica el área del empleado antes de la novedad\n",
        "\n",
        "CODIGO_CARGO_ANTERIOR: Es el código con el cual se identifica el cargo del empleado antes de la novedad\n",
        "\n",
        "AÑO: Es al año en la cual se aplico la novedad\n",
        "\n",
        "PERIODO: Es el mes y año en la cual se aplico la novedad\n",
        "\n",
        "VP ACTUAL: Es la vicepresidencia (1er nivel) donde se encuentra estructuralmente el empleado\n",
        "\n",
        "VP ANT:  Es la vicepresidencia (1er nivel) donde se encuentra estructuralmente el empleado, antes del movimiento\n",
        "\n",
        "2 ACT:  Es el área (2do nivel) donde se encuentra estructuralmente el empleado\n",
        "\n",
        "2 ANT:   Es el área (2do nivel) donde se encuentra estructuralmente el empleado, antes del movimiento\n",
        "\n",
        "3 ACT:   Es el área (3cer nivel) donde se encuentra estructuralmente el empleado\n",
        "\n",
        "3 ANT:   Es el área (3cer nivel) donde se encuentra estructuralmente el empleado, antes del movimiento\n",
        "\n",
        "4 ACT:   Es el área (4to nivel) donde se encuentra estructuralmente el empleado\n",
        "\n",
        "4 ANT:   Es el área (4to nivel) donde se encuentra estructuralmente el empleado, antes del movimiento\n",
        "\n",
        "5 ACT:   Es el área (5to nivel) donde se encuentra estructuralmente el empleado\n",
        "\n",
        "5 ANT:   Es el área (5to nivel) donde se encuentra estructuralmente el empleado, antes del movimiento\n",
        "\n",
        "NIVEL_DEL_CARGO: Es la clasificación del cargo de acuerdo a su descripción \n",
        "\n",
        "RED_DE_SUCURSALES: Es la clasificación de los empelados de acuerdo a los comerciales y administrativos\n",
        "\n",
        "CARGO_ANTERIOR: Es la descripción del cargo antes de la novedad\n",
        "\n",
        "COMPAÑÍA_AANTERIOR: Internamente la organización tiene varias subcompañias, acá el nombre de cada una, es la compañia antes de la novedad\n",
        "\n",
        "NIVEL_DEL_CARGO_ANTERIOR: Es la clasificación del cargo de acuerdo a su descripción, antes de la novedad\n",
        "\n",
        "GÉNERO: Es la identificación del sexo del empleado"
      ]
    },
    {
      "cell_type": "code",
      "execution_count": 45,
      "metadata": {},
      "outputs": [
        {
          "name": "stdout",
          "output_type": "stream",
          "text": [
            "Forma de la base de retiros (filas, columnas): (83142, 31)\n",
            "Total de registros: 83142\n",
            "Total de columnas: 31\n"
          ]
        }
      ],
      "source": [
        "#Conteo de registros por cada una de las variables\n",
        "#Conocer la forma de la base de datos\n",
        "\n",
        "print(\"Forma de la base de retiros (filas, columnas):\", retiros.shape)\n",
        "print(f\"Total de registros: {retiros.shape[0]}\")\n",
        "print(f\"Total de columnas: {retiros.shape[1]}\")"
      ]
    },
    {
      "cell_type": "code",
      "execution_count": 46,
      "metadata": {
        "colab": {
          "base_uri": "https://localhost:8080/"
        },
        "id": "5eRAHABzWF3Y",
        "outputId": "d9ec1514-a693-42e0-a8b8-d8a6199425c9"
      },
      "outputs": [
        {
          "name": "stdout",
          "output_type": "stream",
          "text": [
            "<class 'pandas.core.frame.DataFrame'>\n",
            "RangeIndex: 83142 entries, 0 to 83141\n",
            "Data columns (total 31 columns):\n",
            " #   Column                    Non-Null Count  Dtype  \n",
            "---  ------                    --------------  -----  \n",
            " 0   ID_EMPLEADOS              83142 non-null  int64  \n",
            " 1   COMPAÑÍA                  83142 non-null  object \n",
            " 2   CODIGO_AREA               83142 non-null  int64  \n",
            " 3   AREA                      83131 non-null  object \n",
            " 4   CODIGO_CARGO              83142 non-null  int64  \n",
            " 5   CARGO                     83142 non-null  object \n",
            " 6   REGION                    83142 non-null  object \n",
            " 7   FORMA_DE_TRABAJO          83142 non-null  object \n",
            " 8   CLASE_DE_MEDIDA           83142 non-null  object \n",
            " 9   MOTIVO_RETIRO             83142 non-null  object \n",
            " 10  FECHA_DESDE               83142 non-null  object \n",
            " 11  CODIGO_AREA_ANTERIOR      70055 non-null  float64\n",
            " 12  CODIGO_CARGO_ANTERIOR     66875 non-null  float64\n",
            " 13  AÑO                       83142 non-null  int64  \n",
            " 14  PERIODO                   83142 non-null  object \n",
            " 15  VP ACTUAL                 83130 non-null  object \n",
            " 16  VP ANT                    70021 non-null  object \n",
            " 17  2 ACT                     83130 non-null  object \n",
            " 18  2 ANT                     70021 non-null  object \n",
            " 19  3 ACT                     83130 non-null  object \n",
            " 20  3 ANT                     70021 non-null  object \n",
            " 21  4 ACT                     83130 non-null  object \n",
            " 22  4 ANT                     70021 non-null  object \n",
            " 23  5 ACT                     83130 non-null  object \n",
            " 24  5 ANT                     70021 non-null  object \n",
            " 25  NIVEL_DEL_CARGO           79765 non-null  object \n",
            " 26  RED_DE_SUCURSALES         79765 non-null  object \n",
            " 27  CARGO_ANTERIOR            76955 non-null  object \n",
            " 28  COMPAÑÍA_AANTERIOR        61534 non-null  object \n",
            " 29  NIVEL_DEL_CARGO_ANTERIOR  69797 non-null  object \n",
            " 30  GÉNERO                    83142 non-null  object \n",
            "dtypes: float64(2), int64(4), object(25)\n",
            "memory usage: 19.7+ MB\n"
          ]
        }
      ],
      "source": [
        "#Conozcamos a nivel general el detalle de los columnas de la base de datos\n",
        "#Conocer la cantidad de registros y columnas que tiene la base de datos\n",
        "\n",
        "retiros.info()"
      ]
    },
    {
      "cell_type": "code",
      "execution_count": 48,
      "metadata": {
        "colab": {
          "base_uri": "https://localhost:8080/",
          "height": 236
        },
        "id": "YD9-5A6iEEOo",
        "outputId": "7091e295-6690-47e1-9f86-c244c249637b"
      },
      "outputs": [
        {
          "data": {
            "text/html": [
              "<div>\n",
              "<style scoped>\n",
              "    .dataframe tbody tr th:only-of-type {\n",
              "        vertical-align: middle;\n",
              "    }\n",
              "\n",
              "    .dataframe tbody tr th {\n",
              "        vertical-align: top;\n",
              "    }\n",
              "\n",
              "    .dataframe thead th {\n",
              "        text-align: right;\n",
              "    }\n",
              "</style>\n",
              "<table border=\"1\" class=\"dataframe\">\n",
              "  <thead>\n",
              "    <tr style=\"text-align: right;\">\n",
              "      <th></th>\n",
              "      <th>ID_EMPLEADOS</th>\n",
              "      <th>COMPAÑÍA</th>\n",
              "      <th>CODIGO_AREA</th>\n",
              "      <th>AREA</th>\n",
              "      <th>CODIGO_CARGO</th>\n",
              "      <th>CARGO</th>\n",
              "      <th>REGION</th>\n",
              "      <th>FORMA_DE_TRABAJO</th>\n",
              "      <th>CLASE_DE_MEDIDA</th>\n",
              "      <th>MOTIVO_RETIRO</th>\n",
              "      <th>FECHA_DESDE</th>\n",
              "      <th>CODIGO_AREA_ANTERIOR</th>\n",
              "      <th>CODIGO_CARGO_ANTERIOR</th>\n",
              "      <th>AÑO</th>\n",
              "      <th>PERIODO</th>\n",
              "      <th>VP ACTUAL</th>\n",
              "      <th>VP ANT</th>\n",
              "      <th>2 ACT</th>\n",
              "      <th>2 ANT</th>\n",
              "      <th>3 ACT</th>\n",
              "      <th>3 ANT</th>\n",
              "      <th>4 ACT</th>\n",
              "      <th>4 ANT</th>\n",
              "      <th>5 ACT</th>\n",
              "      <th>5 ANT</th>\n",
              "      <th>NIVEL_DEL_CARGO</th>\n",
              "      <th>RED_DE_SUCURSALES</th>\n",
              "      <th>CARGO_ANTERIOR</th>\n",
              "      <th>COMPAÑÍA_AANTERIOR</th>\n",
              "      <th>NIVEL_DEL_CARGO_ANTERIOR</th>\n",
              "      <th>GÉNERO</th>\n",
              "    </tr>\n",
              "  </thead>\n",
              "  <tbody>\n",
              "    <tr>\n",
              "      <th>35255</th>\n",
              "      <td>19230</td>\n",
              "      <td>Valores Bancolombia S.A.</td>\n",
              "      <td>1234</td>\n",
              "      <td>GCIA REGIONAL CARIBE INVERSIONES</td>\n",
              "      <td>17570</td>\n",
              "      <td>GERENTE/A COMERCIAL CORPORATIVO</td>\n",
              "      <td>Caribe</td>\n",
              "      <td>No Convencionad (CO)</td>\n",
              "      <td>CAMBIO ORG. CON CAM. REM (CO)</td>\n",
              "      <td>PROMOCIÓN</td>\n",
              "      <td>1/11/2022</td>\n",
              "      <td>1234.0</td>\n",
              "      <td>17570.0</td>\n",
              "      <td>2022</td>\n",
              "      <td>nov-22</td>\n",
              "      <td>VICEPRESIDENCIA DE NEGOCIOS</td>\n",
              "      <td>VICEPRESIDENCIA DE NEGOCIOS</td>\n",
              "      <td>VICEPRESIDENCIA GESTION DE INVERSIONES</td>\n",
              "      <td>VICEPRESIDENCIA GESTION DE INVERSIONES</td>\n",
              "      <td>VICEPRESIDENCIA COMERCIAL DE INVERSIONES</td>\n",
              "      <td>VICEPRESIDENCIA COMERCIAL DE INVERSIONES</td>\n",
              "      <td>GCIA REGIONAL CARIBE INVERSIONES</td>\n",
              "      <td>GCIA REGIONAL CARIBE INVERSIONES</td>\n",
              "      <td>NO APLICA</td>\n",
              "      <td>NO APLICA</td>\n",
              "      <td>JEFE</td>\n",
              "      <td>GRUPO SIN RED DE SUCURSALES</td>\n",
              "      <td>GERENTE/A COMERCIAL CORPORATIVO</td>\n",
              "      <td>Valores Bancolombia S.A.</td>\n",
              "      <td>JEFE</td>\n",
              "      <td>femenino</td>\n",
              "    </tr>\n",
              "    <tr>\n",
              "      <th>67983</th>\n",
              "      <td>25579</td>\n",
              "      <td>Bancolombia S.A.</td>\n",
              "      <td>2779</td>\n",
              "      <td>SECCION PLATAFORMAS CENTRALES ABIERTAS</td>\n",
              "      <td>43592</td>\n",
              "      <td>ANALISTA III</td>\n",
              "      <td>Dirección gener</td>\n",
              "      <td>No Convencionad (CO)</td>\n",
              "      <td>CAMBIO ORG. CON CAM. REM (CO)</td>\n",
              "      <td>PROMOCIÓN</td>\n",
              "      <td>1/11/2016</td>\n",
              "      <td>1862.0</td>\n",
              "      <td>6764.0</td>\n",
              "      <td>2016</td>\n",
              "      <td>nov-16</td>\n",
              "      <td>VICEPRESIDENCIA SERVICIOS CORPORATIVOS</td>\n",
              "      <td>VICEPRESIDENCIA DE NEGOCIOS</td>\n",
              "      <td>VICEPRESIDENCIA SERV DE TECNOLOGIA</td>\n",
              "      <td>VICEPRESIDENCIA NEGOCIOS PERSN PYME EMP</td>\n",
              "      <td>CDE PLATAFORMA Y DISPONIB ON PREMISE TI</td>\n",
              "      <td>VICEPRESIDENCIA PERSONAS Y PYME CENTRO</td>\n",
              "      <td>ADC PLATAFORMAS CENTRALES TI</td>\n",
              "      <td>GCIA ZONA NORTE DE SANTANDER Y ARAUCA</td>\n",
              "      <td>CENTRALES SERVICIOS INFRA</td>\n",
              "      <td>SUC VENTURA PLAZA</td>\n",
              "      <td>PROFESIONALES</td>\n",
              "      <td>GRUPO SIN RED DE SUCURSALES</td>\n",
              "      <td>CAJERO PRINCIPAL</td>\n",
              "      <td>Bancolombia S.A.</td>\n",
              "      <td>OPERATIVO</td>\n",
              "      <td>Masculino</td>\n",
              "    </tr>\n",
              "  </tbody>\n",
              "</table>\n",
              "</div>"
            ],
            "text/plain": [
              "       ID_EMPLEADOS                  COMPAÑÍA  CODIGO_AREA  \\\n",
              "35255         19230  Valores Bancolombia S.A.         1234   \n",
              "67983         25579          Bancolombia S.A.         2779   \n",
              "\n",
              "                                         AREA  CODIGO_CARGO  \\\n",
              "35255        GCIA REGIONAL CARIBE INVERSIONES         17570   \n",
              "67983  SECCION PLATAFORMAS CENTRALES ABIERTAS         43592   \n",
              "\n",
              "                                 CARGO           REGION      FORMA_DE_TRABAJO  \\\n",
              "35255  GERENTE/A COMERCIAL CORPORATIVO           Caribe  No Convencionad (CO)   \n",
              "67983                     ANALISTA III  Dirección gener  No Convencionad (CO)   \n",
              "\n",
              "                     CLASE_DE_MEDIDA MOTIVO_RETIRO FECHA_DESDE  \\\n",
              "35255  CAMBIO ORG. CON CAM. REM (CO)     PROMOCIÓN   1/11/2022   \n",
              "67983  CAMBIO ORG. CON CAM. REM (CO)     PROMOCIÓN   1/11/2016   \n",
              "\n",
              "       CODIGO_AREA_ANTERIOR  CODIGO_CARGO_ANTERIOR   AÑO PERIODO  \\\n",
              "35255                1234.0                17570.0  2022  nov-22   \n",
              "67983                1862.0                 6764.0  2016  nov-16   \n",
              "\n",
              "                                    VP ACTUAL                       VP ANT  \\\n",
              "35255             VICEPRESIDENCIA DE NEGOCIOS  VICEPRESIDENCIA DE NEGOCIOS   \n",
              "67983  VICEPRESIDENCIA SERVICIOS CORPORATIVOS  VICEPRESIDENCIA DE NEGOCIOS   \n",
              "\n",
              "                                        2 ACT  \\\n",
              "35255  VICEPRESIDENCIA GESTION DE INVERSIONES   \n",
              "67983      VICEPRESIDENCIA SERV DE TECNOLOGIA   \n",
              "\n",
              "                                         2 ANT  \\\n",
              "35255   VICEPRESIDENCIA GESTION DE INVERSIONES   \n",
              "67983  VICEPRESIDENCIA NEGOCIOS PERSN PYME EMP   \n",
              "\n",
              "                                          3 ACT  \\\n",
              "35255  VICEPRESIDENCIA COMERCIAL DE INVERSIONES   \n",
              "67983   CDE PLATAFORMA Y DISPONIB ON PREMISE TI   \n",
              "\n",
              "                                          3 ANT  \\\n",
              "35255  VICEPRESIDENCIA COMERCIAL DE INVERSIONES   \n",
              "67983    VICEPRESIDENCIA PERSONAS Y PYME CENTRO   \n",
              "\n",
              "                                  4 ACT  \\\n",
              "35255  GCIA REGIONAL CARIBE INVERSIONES   \n",
              "67983      ADC PLATAFORMAS CENTRALES TI   \n",
              "\n",
              "                                       4 ANT                      5 ACT  \\\n",
              "35255       GCIA REGIONAL CARIBE INVERSIONES                  NO APLICA   \n",
              "67983  GCIA ZONA NORTE DE SANTANDER Y ARAUCA  CENTRALES SERVICIOS INFRA   \n",
              "\n",
              "                   5 ANT NIVEL_DEL_CARGO            RED_DE_SUCURSALES  \\\n",
              "35255          NO APLICA            JEFE  GRUPO SIN RED DE SUCURSALES   \n",
              "67983  SUC VENTURA PLAZA   PROFESIONALES  GRUPO SIN RED DE SUCURSALES   \n",
              "\n",
              "                        CARGO_ANTERIOR        COMPAÑÍA_AANTERIOR  \\\n",
              "35255  GERENTE/A COMERCIAL CORPORATIVO  Valores Bancolombia S.A.   \n",
              "67983                 CAJERO PRINCIPAL          Bancolombia S.A.   \n",
              "\n",
              "      NIVEL_DEL_CARGO_ANTERIOR     GÉNERO  \n",
              "35255                     JEFE   femenino  \n",
              "67983                OPERATIVO  Masculino  "
            ]
          },
          "execution_count": 48,
          "metadata": {},
          "output_type": "execute_result"
        }
      ],
      "source": [
        "#con este código podemos observar todas las columnas del df de forma aleatoria en sus registros\n",
        "\n",
        "pd.set_option(\"display.max_columns\",None)              \n",
        "retiros.sample(2)"
      ]
    },
    {
      "cell_type": "code",
      "execution_count": 49,
      "metadata": {
        "colab": {
          "base_uri": "https://localhost:8080/",
          "height": 303
        },
        "id": "xjWMTw9gEWG_",
        "outputId": "8f539a12-3aef-4828-e272-ed460f7134cf"
      },
      "outputs": [
        {
          "data": {
            "text/plain": [
              "CLASE_DE_MEDIDA\n",
              "CAMBIO ORG. SIN CAM. REM (CO)    25292\n",
              "CAMBIO ORG. CON CAM. REM (CO)    25086\n",
              "RETIRO (CO)                      16174\n",
              "CONTRATACION (CO)                13075\n",
              "IMPACTO SALARIAL (CO)             3514\n",
              "RECONTRATACION (CO)                  1\n",
              "Name: count, dtype: int64"
            ]
          },
          "execution_count": 49,
          "metadata": {},
          "output_type": "execute_result"
        }
      ],
      "source": [
        "#Conocer los valores unicos por clase de medida\n",
        "retiros[\"CLASE_DE_MEDIDA\"].value_counts()     \n",
        "\n"
      ]
    },
    {
      "cell_type": "code",
      "execution_count": 52,
      "metadata": {},
      "outputs": [],
      "source": [
        "#En el campo de clase de medida, debemos finalmente dejar 2 clases para poder realizar el modelo de predicción, estos son: ACTIVO o RETIRO, en ese sentido, las clasificaciones diferentes a RETIRO serán reemplazadas por ACTIVO\n",
        "\n",
        "retiros['CLASE_DE_MEDIDA'] = retiros['CLASE_DE_MEDIDA'].replace({\n",
        "    'CAMBIO ORG. SIN CAM. REM (CO)': 'ACTIVO',\n",
        "    'CAMBIO ORG. CON CAM. REM (CO)': 'ACTIVO',\n",
        "    'CONTRATACION (CO)': 'ACTIVO',\n",
        "    'IMPACTO SALARIAL (CO)': 'ACTIVO',\n",
        "    'RECONTRATACION (CO)': 'ACTIVO'\n",
        "})"
      ]
    },
    {
      "cell_type": "code",
      "execution_count": 53,
      "metadata": {},
      "outputs": [
        {
          "name": "stdout",
          "output_type": "stream",
          "text": [
            "CLASE_DE_MEDIDA\n",
            "ACTIVO         66968\n",
            "RETIRO (CO)    16174\n",
            "Name: count, dtype: int64\n"
          ]
        }
      ],
      "source": [
        "#Validamos si efectivamente el cambio fue aplicado\n",
        "\n",
        "print(retiros['CLASE_DE_MEDIDA'].value_counts())"
      ]
    },
    {
      "cell_type": "code",
      "execution_count": 54,
      "metadata": {},
      "outputs": [],
      "source": [
        "# Limpieza de la clase RETIRO, quiero quitar el nombre RETIRO (CO) y dejar solo RETIRO\n",
        "\n",
        "retiros['CLASE_DE_MEDIDA'] = retiros['CLASE_DE_MEDIDA'].replace({\n",
        "    'RETIRO (CO)': 'RETIRO',\n",
        "    })"
      ]
    },
    {
      "cell_type": "code",
      "execution_count": 55,
      "metadata": {},
      "outputs": [
        {
          "name": "stdout",
          "output_type": "stream",
          "text": [
            "CLASE_DE_MEDIDA\n",
            "ACTIVO    66968\n",
            "RETIRO    16174\n",
            "Name: count, dtype: int64\n"
          ]
        }
      ],
      "source": [
        "#Validamos finalmente como quedan las 2 clases de la columna con la cual vamos a predecir:\n",
        "\n",
        "print(retiros['CLASE_DE_MEDIDA'].value_counts())"
      ]
    },
    {
      "cell_type": "markdown",
      "metadata": {},
      "source": [
        "Con el código anterior se evidencia que finalmente tenemos 2 clases, cuya proporción es: ACTIVO: 76% y RETIRO: 24%; Según las recomendaciones y literatura es una buena proporción, y no se evidencia inicialmente problemas de desbalanceo."
      ]
    },
    {
      "cell_type": "code",
      "execution_count": 58,
      "metadata": {},
      "outputs": [
        {
          "data": {
            "text/plain": [
              "MOTIVO_RETIRO\n",
              "PROMOCIÓN                         23787\n",
              "TRASLADO HORIZONTAL               21313\n",
              "CONTRATACIÓN                      13070\n",
              "RETIRO                            11329\n",
              "TRASLADO POR CAMBIO DE OFICINA     3147\n",
              "RETIRO SIN JUSTA CAUSA             1819\n",
              "MOD. POR CAMBIO DE JORNADA         1708\n",
              "RETIRO POR JUSTA CAUSA             1513\n",
              "AUMENTO POR NIVELACIÓN             1280\n",
              "SUSTITUCION PATRONAL INTERNA       1278\n",
              "DESCENSO                            800\n",
              "FINALIZACIÓN CONTRATO TÉRMINO       635\n",
              "RETIRO POR PENSIÓN                  570\n",
              "AUMENTO POR 20 AÑOS SERVICIO        465\n",
              "RETIRO EN PERIODO DE PRUEBA         160\n",
              "RETIRO POR FALLECIMIENTO            110\n",
              "CAMBIO RÉGIMEN NUEVO A INTEGRA       61\n",
              "RETIRO POR SUSTITUCIÓN PATRONA       22\n",
              "TRASLADO X DESCENSO                  14\n",
              "SUSTITUCION PATRONAL EXTERNA         13\n",
              "REINTEGRO                            11\n",
              "RETIRO POR OTRAS CAUSAS              10\n",
              "IMPLEMENTACIÓN ESCALAFÓN              8\n",
              "CUBRIMIENTO DE VACANTE                5\n",
              "CANCELACIÓN CONTRATO TÉRMINO F        4\n",
              "CAMBIO X REUBICACIÓN X SALUD          4\n",
              "TRASLADO POR CIERRE DE OFICINA        3\n",
              "PENSIÓN DE INVALIDEZ                  2\n",
              "RECONTRATACIÓN                        1\n",
              "Name: count, dtype: int64"
            ]
          },
          "execution_count": 58,
          "metadata": {},
          "output_type": "execute_result"
        }
      ],
      "source": [
        "#Conocer los Valores unicos por campo:  motivo de retiro, el cual tiene el detalle de los motivos por los cuales se retiran los empleados\n",
        "retiros[\"MOTIVO_RETIRO\"].value_counts()  "
      ]
    },
    {
      "cell_type": "markdown",
      "metadata": {},
      "source": [
        "IMPORTANTE: Tener en cuenta que no todos los retiros se pueden predecir, debido a que tenemos algunos motivos de retiro como: jubilación, justa causa, mutuo acuerdo, entre otros que no se pueden controlar, en ese sentido, vamos a revisar la columna de \"motivo de medida\" y poder tener en cuenta solo los motivos de: RETIRO VOLUNTARIO y RETIRO VOLUNTARIO ARREGLO MUTUO."
      ]
    },
    {
      "cell_type": "code",
      "execution_count": 59,
      "metadata": {},
      "outputs": [
        {
          "data": {
            "text/plain": [
              "MOTIVO_RETIRO\n",
              "PROMOCIÓN                         23787\n",
              "TRASLADO HORIZONTAL               21313\n",
              "CONTRATACIÓN                      13070\n",
              "RETIRO                            11329\n",
              "TRASLADO POR CAMBIO DE OFICINA     3147\n",
              "RETIRO SIN JUSTA CAUSA             1819\n",
              "MOD. POR CAMBIO DE JORNADA         1708\n",
              "RETIRO POR JUSTA CAUSA             1513\n",
              "AUMENTO POR NIVELACIÓN             1280\n",
              "SUSTITUCION PATRONAL INTERNA       1278\n",
              "DESCENSO                            800\n",
              "FINALIZACIÓN CONTRATO TÉRMINO       635\n",
              "RETIRO POR PENSIÓN                  570\n",
              "AUMENTO POR 20 AÑOS SERVICIO        465\n",
              "RETIRO EN PERIODO DE PRUEBA         160\n",
              "RETIRO POR FALLECIMIENTO            110\n",
              "CAMBIO RÉGIMEN NUEVO A INTEGRA       61\n",
              "RETIRO POR SUSTITUCIÓN PATRONA       22\n",
              "TRASLADO X DESCENSO                  14\n",
              "SUSTITUCION PATRONAL EXTERNA         13\n",
              "REINTEGRO                            11\n",
              "RETIRO POR OTRAS CAUSAS              10\n",
              "IMPLEMENTACIÓN ESCALAFÓN              8\n",
              "CUBRIMIENTO DE VACANTE                5\n",
              "CANCELACIÓN CONTRATO TÉRMINO F        4\n",
              "CAMBIO X REUBICACIÓN X SALUD          4\n",
              "TRASLADO POR CIERRE DE OFICINA        3\n",
              "PENSIÓN DE INVALIDEZ                  2\n",
              "RECONTRATACIÓN                        1\n",
              "Name: count, dtype: int64"
            ]
          },
          "execution_count": 59,
          "metadata": {},
          "output_type": "execute_result"
        }
      ],
      "source": [
        "#Hacemos la homologación y validamos:\n",
        "\n",
        "retiros['MOTIVO_RETIRO'] = retiros['MOTIVO_RETIRO'].replace({\n",
        "    'VOLUNTARIO ARREGLO MUTUO': 'RETIRO',\n",
        "    'RETIRO VOLUNTARIO': 'RETIRO'\n",
        "})\n",
        "retiros[\"MOTIVO_RETIRO\"].value_counts()  "
      ]
    },
    {
      "cell_type": "code",
      "execution_count": 60,
      "metadata": {},
      "outputs": [],
      "source": [
        "# Teniendo en cuenta el punto anterior, se debe dejar el DATASET solo con los activos y con los retiros que icnluyan el motivo de la medida: RETIRO (El cual significa retiros voluntario y voluntario arreglo mutuo)\n",
        "#Llamaremos el nuevo Dataset como retiros_definitivos\n",
        "retiros_definitivos = retiros[\n",
        "    ((retiros['CLASE_DE_MEDIDA'] == 'RETIRO') & (retiros['MOTIVO_RETIRO'] == 'RETIRO')) |\n",
        "    (retiros['CLASE_DE_MEDIDA'] == 'ACTIVO')\n",
        "]"
      ]
    },
    {
      "cell_type": "code",
      "execution_count": 62,
      "metadata": {},
      "outputs": [
        {
          "name": "stdout",
          "output_type": "stream",
          "text": [
            "CLASE_DE_MEDIDA\n",
            "ACTIVO    66968\n",
            "RETIRO    11329\n",
            "Name: count, dtype: int64\n"
          ]
        }
      ],
      "source": [
        "#Validamos la cantidad de registros que tenemos en el nuevo dataset\n",
        "\n",
        "print(retiros_definitivos['CLASE_DE_MEDIDA'].value_counts())"
      ]
    },
    {
      "cell_type": "markdown",
      "metadata": {},
      "source": [
        "Con este cambio del Dataset las 2 clases quedaron así: ACTIVO (86%) y RETIRO (14%), con está distribución las muestras quedan desbalanceadas, sin embargo, vamos a hacer el modelo con esta información y dependiendo de los resultados validamos si debemos aplicar alguna técnica avanzada."
      ]
    },
    {
      "cell_type": "code",
      "execution_count": 26,
      "metadata": {
        "colab": {
          "base_uri": "https://localhost:8080/"
        },
        "id": "AvWKdztWLPEE",
        "outputId": "972d094f-d341-4a2f-e962-69cf3b9aa9d1"
      },
      "outputs": [
        {
          "name": "stdout",
          "output_type": "stream",
          "text": [
            "ID_EMPLEADOS:\n",
            "ID_EMPLEADOS\n",
            "12          1\n",
            "30          1\n",
            "34          1\n",
            "41          1\n",
            "42          1\n",
            "           ..\n",
            "90062236    1\n",
            "90062248    1\n",
            "90062257    1\n",
            "90062315    1\n",
            "92000929    1\n",
            "Name: count, Length: 38566, dtype: int64\n",
            "Total: 83142\n",
            "\n",
            "COMPAÑÍA:\n",
            "COMPAÑÍA\n",
            "Banca de Inv. Bancolombia      390\n",
            "Bancolombia S.A.             78771\n",
            "Factoring Bancolombia S.A       24\n",
            "Fiduciaria Bancolombia        2132\n",
            "Leasing Bancolombia S.A.       454\n",
            "Valores Bancolombia S.A.      1371\n",
            "Name: count, dtype: int64\n",
            "Total: 83142\n",
            "\n",
            "CODIGO_AREA:\n",
            "CODIGO_AREA\n",
            "0           11\n",
            "3            7\n",
            "4           25\n",
            "6            6\n",
            "14           7\n",
            "            ..\n",
            "70006498     1\n",
            "70006499     1\n",
            "70006500     1\n",
            "70006501     1\n",
            "70006507     1\n",
            "Name: count, Length: 4593, dtype: int64\n",
            "Total: 83142\n",
            "\n",
            "AREA:\n",
            "AREA\n",
            " GCIA MERCADEO DE CANALES                    5\n",
            " GERENCIA COMERCIAL DE INCLUSION             1\n",
            " GERENCIA ESTRATEGIA CCIAL DE INCLUSION      1\n",
            " GERENCIA MERCADEO PERSONAS                  2\n",
            "ADC ADMIN DE IDENTIDADES Y ACCESOS           4\n",
            "                                            ..\n",
            "VP BANCA EMPRESAS Y GOBIERNO SUR            12\n",
            "VP CORPORATIVA ESTRATEGIA Y FINANZAS         1\n",
            "VP CORPORATIVA REPUTACION Y COMUNICACION     3\n",
            "WOMPI                                        2\n",
            "NaN                                         11\n",
            "Name: count, Length: 7678, dtype: int64\n",
            "Total: 83142\n",
            "\n",
            "CODIGO_CARGO:\n",
            "CODIGO_CARGO\n",
            "1               1\n",
            "3               1\n",
            "4               1\n",
            "5               1\n",
            "7               3\n",
            "            ...  \n",
            "70153067        1\n",
            "70153068        1\n",
            "70153133        1\n",
            "70153134        1\n",
            "99999999    16175\n",
            "Name: count, Length: 29067, dtype: int64\n",
            "Total: 83142\n",
            "\n",
            "CARGO:\n",
            "CARGO\n",
            "ABOGADO                              21\n",
            "ABOGADO DE COBRANZA II                4\n",
            "ABOGADO ESTRUCTURADOR                12\n",
            "ABOGADO I                            35\n",
            "ABOGADO II                           60\n",
            "                                     ..\n",
            "VICEPRESIDENTE UNIDAD ESTRATEGICA     1\n",
            "VICEPRESIDENTE WEALTH MANAGEMENT      1\n",
            "VICEPRESIDENTE/A                     31\n",
            "VICEPRESIDENTE/A COMERCIAL           11\n",
            "VICEPRESIDENTE/A CORPORATIVO          3\n",
            "Name: count, Length: 396, dtype: int64\n",
            "Total: 83142\n",
            "\n",
            "REGION:\n",
            "REGION\n",
            "Antioquia          29539\n",
            "Bogota y sabana    18820\n",
            "Caribe              6771\n",
            "Centro              7323\n",
            "Dirección gener    12576\n",
            "Sur                 8113\n",
            "Name: count, dtype: int64\n",
            "Total: 83142\n",
            "\n",
            "FORMA_DE_TRABAJO:\n",
            "FORMA_DE_TRABAJO\n",
            "Convencionados (CO)     45599\n",
            "En transición (CO)       1312\n",
            "No Conven. FVBP (CO)        1\n",
            "No Convencionad (CO)    36230\n",
            "Name: count, dtype: int64\n",
            "Total: 83142\n",
            "\n",
            "CLASE_DE_MEDIDA:\n",
            "CLASE_DE_MEDIDA\n",
            "CAMBIO ORG. CON CAM. REM (CO)    25086\n",
            "CAMBIO ORG. SIN CAM. REM (CO)    25292\n",
            "CONTRATACION (CO)                13075\n",
            "IMPACTO SALARIAL (CO)             3514\n",
            "RECONTRATACION (CO)                  1\n",
            "RETIRO (CO)                      16174\n",
            "Name: count, dtype: int64\n",
            "Total: 83142\n",
            "\n",
            "MOTIVO_RETIRO:\n",
            "MOTIVO_RETIRO\n",
            "AUMENTO POR 20 AÑOS SERVICIO        465\n",
            "AUMENTO POR NIVELACIÓN             1280\n",
            "CAMBIO RÉGIMEN NUEVO A INTEGRA       61\n",
            "CAMBIO X REUBICACIÓN X SALUD          4\n",
            "CANCELACIÓN CONTRATO TÉRMINO F        4\n",
            "CONTRATACIÓN                      13070\n",
            "CUBRIMIENTO DE VACANTE                5\n",
            "DESCENSO                            800\n",
            "FINALIZACIÓN CONTRATO TÉRMINO       635\n",
            "IMPLEMENTACIÓN ESCALAFÓN              8\n",
            "MOD. POR CAMBIO DE JORNADA         1708\n",
            "PENSIÓN DE INVALIDEZ                  2\n",
            "PROMOCIÓN                         23787\n",
            "RECONTRATACIÓN                        1\n",
            "REINTEGRO                            11\n",
            "RETIRO EN PERIODO DE PRUEBA         160\n",
            "RETIRO POR FALLECIMIENTO            110\n",
            "RETIRO POR JUSTA CAUSA             1513\n",
            "RETIRO POR OTRAS CAUSAS              10\n",
            "RETIRO POR PENSIÓN                  570\n",
            "RETIRO POR SUSTITUCIÓN PATRONA       22\n",
            "RETIRO SIN JUSTA CAUSA             1819\n",
            "RETIRO VOLUNTARIO                  5180\n",
            "SUSTITUCION PATRONAL EXTERNA         13\n",
            "SUSTITUCION PATRONAL INTERNA       1278\n",
            "TRASLADO HORIZONTAL               21313\n",
            "TRASLADO POR CAMBIO DE OFICINA     3147\n",
            "TRASLADO POR CIERRE DE OFICINA        3\n",
            "TRASLADO X DESCENSO                  14\n",
            "VOLUNTARIO ARREGLO MUTUO           6149\n",
            "Name: count, dtype: int64\n",
            "Total: 83142\n",
            "\n",
            "FECHA_DESDE:\n",
            "FECHA_DESDE\n",
            "1/01/2014    198\n",
            "1/01/2015    161\n",
            "1/01/2016    165\n",
            "1/01/2017    120\n",
            "1/01/2018     61\n",
            "            ... \n",
            "9/12/2020      7\n",
            "9/12/2021     18\n",
            "9/12/2022     12\n",
            "9/12/2023      1\n",
            "9/12/2024     35\n",
            "Name: count, Length: 3246, dtype: int64\n",
            "Total: 83142\n",
            "\n",
            "CODIGO_AREA_ANTERIOR:\n",
            "CODIGO_AREA_ANTERIOR\n",
            "3.0               6\n",
            "4.0              24\n",
            "6.0               5\n",
            "14.0              6\n",
            "24.0              4\n",
            "              ...  \n",
            "70006433.0        1\n",
            "70006434.0        1\n",
            "70006437.0        1\n",
            "70006449.0        2\n",
            "NaN           13087\n",
            "Name: count, Length: 4572, dtype: int64\n",
            "Total: 83142\n",
            "\n",
            "CODIGO_CARGO_ANTERIOR:\n",
            "CODIGO_CARGO_ANTERIOR\n",
            "1.0               1\n",
            "3.0               1\n",
            "4.0               1\n",
            "5.0               3\n",
            "6.0               3\n",
            "              ...  \n",
            "70152609.0        1\n",
            "70152610.0        1\n",
            "70152615.0        1\n",
            "99999999.0        2\n",
            "NaN           16267\n",
            "Name: count, Length: 30115, dtype: int64\n",
            "Total: 83142\n",
            "\n",
            "AÑO:\n",
            "AÑO\n",
            "2014     5445\n",
            "2015     6568\n",
            "2016     7310\n",
            "2017     7564\n",
            "2018     4925\n",
            "2019     6531\n",
            "2020     4445\n",
            "2021     6929\n",
            "2022    12757\n",
            "2023     9927\n",
            "2024     8271\n",
            "2025     2470\n",
            "Name: count, dtype: int64\n",
            "Total: 83142\n",
            "\n",
            "PERIODO:\n",
            "PERIODO\n",
            "abr-14     453\n",
            "abr-15     473\n",
            "abr-16     651\n",
            "abr-17     569\n",
            "abr-18     454\n",
            "          ... \n",
            "sep-20     658\n",
            "sep-21     598\n",
            "sep-22    1169\n",
            "sep-23     820\n",
            "sep-24    1514\n",
            "Name: count, Length: 135, dtype: int64\n",
            "Total: 83142\n",
            "\n",
            "VP ACTUAL:\n",
            "VP ACTUAL\n",
            "BECARIOS                                       12\n",
            "DIRECCION DE ESTRATEGIA                        19\n",
            "DIVERSIDAD EQUIDAD E INCLUSION                  4\n",
            "GERENCIA GESTION PRESIDENCIA                   24\n",
            "PRESIDENCIA                                     6\n",
            "VICEPRESIDENCIA AUDITORIA INTERNA             331\n",
            "VICEPRESIDENCIA CORP GRUPO BANCOLOMBIA       3338\n",
            "VICEPRESIDENCIA DE INNOVACION Y SOSTENIB      686\n",
            "VICEPRESIDENCIA DE NEGOCIOS                 55306\n",
            "VICEPRESIDENCIA DE RIESGOS                   2134\n",
            "VICEPRESIDENCIA DLLO BANCA MAS HUMANA           2\n",
            "VICEPRESIDENCIA ESTRATEGIA Y FINANZA          214\n",
            "VICEPRESIDENCIA JURIDICA SECRET GENERAL       133\n",
            "VICEPRESIDENCIA SERVICIOS CORPORATIVOS      20830\n",
            "VP CORPORATIVA ESTRATEGIA Y FINANZAS           91\n",
            "NaN                                            12\n",
            "Name: count, dtype: int64\n",
            "Total: 83142\n",
            "\n",
            "VP ANT:\n",
            "VP ANT\n",
            "BECARIOS                                       23\n",
            "DIRECCION DE ESTRATEGIA                        15\n",
            "DIVERSIDAD EQUIDAD E INCLUSION                  1\n",
            "GERENCIA GESTION PRESIDENCIA                   18\n",
            "PRESIDENCIA                                     5\n",
            "VICEPRESIDENCIA AUDITORIA INTERNA             266\n",
            "VICEPRESIDENCIA CORP GRUPO BANCOLOMBIA       2530\n",
            "VICEPRESIDENCIA DE INNOVACION Y SOSTENIB      560\n",
            "VICEPRESIDENCIA DE NEGOCIOS                 47574\n",
            "VICEPRESIDENCIA DE RIESGOS                   1669\n",
            "VICEPRESIDENCIA DLLO BANCA MAS HUMANA           2\n",
            "VICEPRESIDENCIA ESTRATEGIA Y FINANZA          272\n",
            "VICEPRESIDENCIA GESTION HUMANA                  1\n",
            "VICEPRESIDENCIA JURIDICA SECRET GENERAL        99\n",
            "VICEPRESIDENCIA PERSONAS Y PYME                32\n",
            "VICEPRESIDENCIA SERVICIOS CORPORATIVOS      16885\n",
            "VP CORPORATIVA ESTRATEGIA Y FINANZAS           69\n",
            "NaN                                         13121\n",
            "Name: count, dtype: int64\n",
            "Total: 83142\n",
            "\n",
            "2 ACT:\n",
            "2 ACT\n",
            "ADMINISTRACION INTEGRAL VP SERV CORP          4\n",
            "CDE CUMPLIMIENTO                             14\n",
            "CDE INNOVACION                               18\n",
            "CDE SOSTENIBILIDAD Y BIENESTAR               57\n",
            "CELULA PRESIDENCIA                            6\n",
            "                                           ... \n",
            "VICEPRESIDENCIA TESORERIA                    25\n",
            "VICEPRESIDENCIA VIVIENDA Y CONSUMO           12\n",
            "VP CORPORATIVA REPUTACION Y COMUNICACION     17\n",
            "VP DISTRIBUCION E INTERACCION CON CTES      617\n",
            "NaN                                          12\n",
            "Name: count, Length: 111, dtype: int64\n",
            "Total: 83142\n",
            "\n",
            "2 ANT:\n",
            "2 ANT\n",
            "ADMINISTRACION INTEGRAL VP SERV CORP            6\n",
            "CDE CUMPLIMIENTO                               10\n",
            "CDE INNOVACION                                 14\n",
            "CDE MODELOS CORPORATIVOS                        1\n",
            "CDE SOSTENIBILIDAD Y BIENESTAR                 33\n",
            "                                            ...  \n",
            "VICEPRESIDENCIA TESORERIA                      15\n",
            "VICEPRESIDENCIA VIVIENDA Y CONSUMO             33\n",
            "VP CORPORATIVA REPUTACION Y COMUNICACION       12\n",
            "VP DISTRIBUCION E INTERACCION CON CTES        434\n",
            "NaN                                         13121\n",
            "Name: count, Length: 113, dtype: int64\n",
            "Total: 83142\n",
            "\n",
            "3 ACT:\n",
            "3 ACT\n",
            "ADC ADOPCION USO Y DIRECCIONAMIENTO            4\n",
            "ADC ANALITICA DIGITAL Y BI MERCADEO           37\n",
            "ADC ANALITICA DISTRIBUCION                    18\n",
            "ADC EXPERIENCIA NEGOCIOS                      59\n",
            "ADC GESTION NEGOCIOS Y DATOS ECOSISTEMAS      31\n",
            "                                            ... \n",
            "VICEPRESIDENCIA PERSONAS Y PYME CENTRO      5914\n",
            "VICEPRESIDENCIA PERSONAS Y PYME SUR         6218\n",
            "VICEPRESIDENCIA TESORERIA                    430\n",
            "WOMPI                                         25\n",
            "NaN                                           12\n",
            "Name: count, Length: 485, dtype: int64\n",
            "Total: 83142\n",
            "\n",
            "3 ANT:\n",
            "3 ANT\n",
            "ADC ADOPCION USO Y DIRECCIONAMIENTO             4\n",
            "ADC ANALITICA DIGITAL Y BI MERCADEO            20\n",
            "ADC ANALITICA DISTRIBUCION                     15\n",
            "ADC EXPERIENCIA NEGOCIOS                       40\n",
            "ADC GESTION NEGOCIOS Y DATOS ECOSISTEMAS       23\n",
            "                                            ...  \n",
            "VICEPRESIDENCIA PERSONAS Y PYME CENTRO       5040\n",
            "VICEPRESIDENCIA PERSONAS Y PYME SUR          5352\n",
            "VICEPRESIDENCIA TESORERIA                     358\n",
            "WOMPI                                          25\n",
            "NaN                                         13121\n",
            "Name: count, Length: 483, dtype: int64\n",
            "Total: 83142\n",
            "\n",
            "4 ACT:\n",
            "4 ACT\n",
            "ADC ADMINIST Y FINANC TI                    102\n",
            "ADC ADOPCION USO Y CONTACTABILIDAD            6\n",
            "ADC ADQUIRENCIA                              17\n",
            "ADC ANALISIS ING CONFIABILIDAD SERV TI       23\n",
            "ADC ANALITICA GESTION DEL FRAUDE             57\n",
            "                                           ... \n",
            "VICEPRESIDENCIA FINANCIAMIENTO ESTRUCTUR     40\n",
            "VICEPRESIDENCIA FUSIONES Y ADQUISICIONES     41\n",
            "VICEPRESIDENCIA INVERSIONES DE CAPITAL       19\n",
            "VICEPRESIDENCIA MERCADO DE CAPITALES         40\n",
            "NaN                                          12\n",
            "Name: count, Length: 1133, dtype: int64\n",
            "Total: 83142\n",
            "\n",
            "4 ANT:\n",
            "4 ANT\n",
            " GCIA COMERCIAL DE PERSONAS NATURALES           1\n",
            "ADC ADMINIST Y FINANC TI                       79\n",
            "ADC ADOPCION USO Y CONTACTABILIDAD              3\n",
            "ADC ADQUIRENCIA                                10\n",
            "ADC ANALISIS ING CONFIABILIDAD SERV TI         19\n",
            "                                            ...  \n",
            "VICEPRESIDENCIA FINANCIAMIENTO ESTRUCTUR       35\n",
            "VICEPRESIDENCIA FUSIONES Y ADQUISICIONES       36\n",
            "VICEPRESIDENCIA INVERSIONES DE CAPITAL         15\n",
            "VICEPRESIDENCIA MERCADO DE CAPITALES           31\n",
            "NaN                                         13121\n",
            "Name: count, Length: 1134, dtype: int64\n",
            "Total: 83142\n",
            "\n",
            "5 ACT:\n",
            "5 ACT\n",
            "ADC ADMIN DE IDENTIDADES Y ACCESOS      33\n",
            "ADC ADQUIRENCIA TI                      15\n",
            "ADC ANALISIS INTEGRACION Y DATOS TI      1\n",
            "ADC ANALISIS Y MODELADO SOA 1 TI        30\n",
            "ADC ANALISIS Y MODELADO SOA 2 TI        11\n",
            "                                      ... \n",
            "SUC YOPAL                              165\n",
            "SUC YUMBO                                5\n",
            "SUC ZIPAQUIRA                           87\n",
            "TRANSF Y SOPORTE CANALES DIRECTOS 1     19\n",
            "NaN                                     12\n",
            "Name: count, Length: 1804, dtype: int64\n",
            "Total: 83142\n",
            "\n",
            "5 ANT:\n",
            "5 ANT\n",
            "ADC ADMIN DE IDENTIDADES Y ACCESOS        30\n",
            "ADC ADQUIRENCIA TI                         9\n",
            "ADC ANALISIS INTEGRACION Y DATOS TI        1\n",
            "ADC ANALISIS Y MODELADO SOA 1 TI          13\n",
            "ADC ANALISIS Y MODELADO SOA 2 TI           7\n",
            "                                       ...  \n",
            "SUC YOPAL                                150\n",
            "SUC YUMBO                                  3\n",
            "SUC ZIPAQUIRA                             75\n",
            "TRANSF Y SOPORTE CANALES DIRECTOS 1       18\n",
            "NaN                                    13121\n",
            "Name: count, Length: 1791, dtype: int64\n",
            "Total: 83142\n",
            "\n",
            "NIVEL_DEL_CARGO:\n",
            "NIVEL_DEL_CARGO\n",
            "ALTA DIRECCION         228\n",
            "APRENDIZ                30\n",
            "ESTRATEGICO MEDIO     1747\n",
            "JEFE                  7949\n",
            "OPERATIVO            43903\n",
            "PROFESIONAL           6459\n",
            "PROFESIONALES        19449\n",
            "NaN                   3377\n",
            "Name: count, dtype: int64\n",
            "Total: 83142\n",
            "\n",
            "RED_DE_SUCURSALES:\n",
            "RED_DE_SUCURSALES\n",
            "GRUPO SIN RED DE SUCURSALES    44747\n",
            "RED DE SUCURSALES              35018\n",
            "NaN                             3377\n",
            "Name: count, dtype: int64\n",
            "Total: 83142\n",
            "\n",
            "CARGO_ANTERIOR:\n",
            "CARGO_ANTERIOR\n",
            "ABOGADO                                14\n",
            "ABOGADO DE COBRANZA II                  1\n",
            "ABOGADO DE COBRANZA III                 1\n",
            "ABOGADO ESTRUCTURADOR                  11\n",
            "ABOGADO I                              39\n",
            "                                     ... \n",
            "VICEPRESIDENTE UNIDAD ESTRATEGICA       3\n",
            "VICEPRESIDENTE/A                       30\n",
            "VICEPRESIDENTE/A COMERCIAL             12\n",
            "VICEPRESIDENTE/A CORPORATIVO            4\n",
            "NaN                                  6187\n",
            "Name: count, Length: 435, dtype: int64\n",
            "Total: 83142\n",
            "\n",
            "COMPAÑÍA_AANTERIOR:\n",
            "COMPAÑÍA_AANTERIOR\n",
            "Banca de Inv. Bancolombia      251\n",
            "Bancolombia S.A.             57364\n",
            "Factoring Bancolombia S.A      147\n",
            "Fiduciaria Bancolombia        1639\n",
            "Leasing Bancolombia S.A.      1067\n",
            "Valores Bancolombia S.A.      1066\n",
            "NaN                          21608\n",
            "Name: count, dtype: int64\n",
            "Total: 83142\n",
            "\n",
            "NIVEL_DEL_CARGO_ANTERIOR:\n",
            "NIVEL_DEL_CARGO_ANTERIOR\n",
            "ALTA DIRECCION         177\n",
            "APRENDIZ                16\n",
            "ESTRATEGICO MEDIO     1256\n",
            "JEFE                  7049\n",
            "OPERATIVO            40995\n",
            "PROFESIONAL           3805\n",
            "PROFESIONALES        16499\n",
            "NaN                  13345\n",
            "Name: count, dtype: int64\n",
            "Total: 83142\n",
            "\n",
            "GÉNERO:\n",
            "GÉNERO\n",
            "Femenino     30970\n",
            "Masculino    19103\n",
            "femenino     19212\n",
            "masculino    13857\n",
            "Name: count, dtype: int64\n",
            "Total: 83142\n"
          ]
        }
      ],
      "source": [
        "\n",
        " #Validamos con el siguiente código, todos los valores únicos, permitiendo visualizar si tenemos valores nulos, caracteres especiales en todas las columnas a la vez\n",
        "output = []\n",
        "for col in retiros.columns:\n",
        "    vc = retiros[col].value_counts(dropna=False).sort_index()\n",
        "    total = vc.sum()\n",
        "    output.append(f\"{col}:\\n{vc}\\nTotal: {total}\")\n",
        "print('\\n\\n'.join(output))                                             "
      ]
    },
    {
      "cell_type": "code",
      "execution_count": 42,
      "metadata": {},
      "outputs": [
        {
          "data": {
            "image/png": "[encoded data removed]",
            "text/plain": [
              "<Figure size 640x480 with 1 Axes>"
            ]
          },
          "metadata": {},
          "output_type": "display_data"
        }
      ],
      "source": [
        "#Identificar datos faltantes de los features del dataset\n",
        "\n",
        "sns.heatmap(retiros.isnull(), yticklabels=False, cbar=False, cmap='tab20c')\n",
        "plt.title('Valores Faltantes En El DataSet de Novedades de empleados')\n",
        "plt.show()\n"
      ]
    },
    {
      "cell_type": "markdown",
      "metadata": {
        "id": "ucQuWC9neVWj"
      },
      "source": [
        "# **VALORES NULOS, CARACTERES ESPECIALES Y EN BLANCO**\n",
        "\n",
        "Se revisa y se identifica que las siguientes columnas no presentan carácteres especiales, ni en blancos, más sin embargo, se identifican algunos valores nulos. Para este ejercicio determinamos que las columnas con un porcentaje de valores nulos mayor al 30% será eliminado.  veamos:\n",
        "1. Area= 11\n",
        "2. Còdigo de area= 2\n",
        "3. Còdigo de cargo= 22579***20%\n",
        "4. VP actual= 12\n",
        "5. Vp Ant= 18543***17%\n",
        "6. 2 act= 12\n",
        "7. 2 ant= 18543***17%\n",
        "8. 3 act= 12\n",
        "9. 3 ant= 18543***17%\n",
        "10. 4 act= 12\n",
        "11. 4 ant= 18543***17%\n",
        "12. 5 act= 12\n",
        "13. 5 ant= 18543***17%\n",
        "14. Nivel de cargo= 3387***3%\n",
        "15. red de sucursales= 3387***3%\n",
        "16. Cargo anterior= 7201***7%\n",
        "17. Compañia anterior= 27928***26%\n",
        "18. Nivel de cargo anterior= 18769***17%\n",
        "\n",
        "\n",
        "Se analizan cada una de las columnas y se determina que no se presentan valores en blanco, ni carácteres especiales. Más sin embargo, se identifican algunos valores nulos que representan menos del 30%, por lo que por este motivo no será eliminadas.\n"
      ]
    },
    {
      "cell_type": "markdown",
      "metadata": {
        "id": "FluC7Y2t45L5"
      },
      "source": [
        "# **LIMPIEZA**"
      ]
    },
    {
      "cell_type": "markdown",
      "metadata": {
        "id": "w46pWIaYHrEN"
      },
      "source": [
        "# VARIABLE GENERO\n",
        "Se identifica que la columna: \"Género presenta inconsistencia en sus datos, se escribe de diferentes formas, por lo que se procede a limpiar la columna a continuación."
      ]
    },
    {
      "cell_type": "code",
      "execution_count": null,
      "metadata": {
        "colab": {
          "base_uri": "https://localhost:8080/"
        },
        "id": "rj-lq7VQY_7u",
        "outputId": "17be3a9f-754b-40a7-fd94-527a39da84b7"
      },
      "outputs": [],
      "source": [
        "retiros['GÉNERO'] = retiros['GÉNERO'].str.strip().str.lower()   #.str.strip() Este método elimina los espacios en blanco al inicio y al final de cada valor de texto en la columna.\n",
        "\n",
        "                                                                #.str.lower() Después de quitar espacios, este método convierte todo el texto a minúsculas.\n",
        "retiros['GÉNERO'] = retiros['GÉNERO'].replace({\n",
        "    'femenino': 'Femenino',\n",
        "    'feménino': 'Femenino',\n",
        "    'masculino': 'Masculino',\n",
        "    'masculíno': 'Masculino',\n",
        "})\n",
        "\n",
        "\n",
        "print(retiros['GÉNERO'].unique())"
      ]
    },
    {
      "cell_type": "markdown",
      "metadata": {
        "id": "r9V6lYXk5EMu"
      },
      "source": [
        "# VARIABLE NIVEL DE CARGO\n",
        "Se identifica que la columna: \"Nivel de cargo\" presenta inconsistencia en sus datos, se escribe de diferentes formas, por lo que se procede a limpiar la columna a continuación."
      ]
    },
    {
      "cell_type": "code",
      "execution_count": null,
      "metadata": {
        "id": "KkdXreri5OkW"
      },
      "outputs": [],
      "source": [
        "retiros['NIVEL_DEL_CARGO'] = retiros['NIVEL_DEL_CARGO'].replace('PROFESIONALES', 'PROFESIONAL')\n"
      ]
    },
    {
      "cell_type": "code",
      "execution_count": null,
      "metadata": {
        "colab": {
          "base_uri": "https://localhost:8080/"
        },
        "id": "tq1dGrfhFGje",
        "outputId": "9c25a2b3-247a-4f29-ace8-ff0acb9be940"
      },
      "outputs": [],
      "source": [
        "retiros.info()"
      ]
    },
    {
      "cell_type": "markdown",
      "metadata": {
        "id": "r85eM__iJfB6"
      },
      "source": [
        "Se revisa el tipo de datos de las columnas a trabajar en el modelo y se identifica que todas presentan el formato correcto; más sin embargo, se identifica que la variable año, es pertienente convertirla a categorica, ya que con este dato no se pueden sacar estadisticas. Y, la columna: periodo se debe convertir a: DATATIME, ya que es una fecha, además se identifica la necesidad de crear una nueva columna, para la variable a predecir, en este caso: \"Retiros voluntarios\""
      ]
    },
    {
      "cell_type": "markdown",
      "metadata": {
        "id": "dy4wq8wWqCWy"
      },
      "source": [
        "# **CREAR COLUMNA PARA RETIROS VOLUNTARIOS Y RETIROS VOLUNTARIOS POR ARREGLO MUTUO\"**\n",
        "\n",
        "Vamos  a clasificar la variable a predecir como \"RETIRO VOLUNTARIO\" en donde sus valores van a ser:\n",
        "\n",
        "1 --> Verdadero: El empleado se retiro voluntariamente (en este valor van a estar relacionados de la variable MOTIVO  DE RETIRO, los valores de \"RETIRO VOLUNTARIO\" y \"VOLUNTARIO ARREGLO MUTUO\"\n",
        "\n",
        "0 --> Falso: El empelado se retiro de su cargo por cualquier otro motivo  los cuales estan relacionados en la variable MOTIVO  DE RETIRO ≠ \"RETIRO VOLUNTARIO\" y \"VOLUNTARIO ARREGLO MUTUO\""
      ]
    },
    {
      "cell_type": "code",
      "execution_count": null,
      "metadata": {
        "id": "pKYGMMfKqGsa"
      },
      "outputs": [],
      "source": [
        "retiros['RETIRO_VOLUNTARIO'] = np.where(\n",
        "    retiros['MOTIVO_RETIRO'].isin(['RETIRO VOLUNTARIO', 'VOLUNTARIO ARREGLO MUTUO']),\n",
        "    1,\n",
        "    0\n",
        ")"
      ]
    },
    {
      "cell_type": "code",
      "execution_count": null,
      "metadata": {
        "colab": {
          "base_uri": "https://localhost:8080/"
        },
        "id": "ANaaErv6qttZ",
        "outputId": "62321474-f0de-4b37-fa75-3de072a48f7a"
      },
      "outputs": [],
      "source": [
        "print(retiros['RETIRO_VOLUNTARIO'].value_counts().sort_index())\n",
        "print(\"Suma total frecuencia:\", retiros['RETIRO_VOLUNTARIO'].value_counts(dropna=False).sum())"
      ]
    },
    {
      "cell_type": "code",
      "execution_count": null,
      "metadata": {
        "colab": {
          "base_uri": "https://localhost:8080/",
          "height": 253
        },
        "id": "Aj_2x4E5kl9t",
        "outputId": "a81a3d88-4c84-4494-a31a-21e904455d1d"
      },
      "outputs": [],
      "source": [
        "retiros.sample(2)"
      ]
    },
    {
      "cell_type": "code",
      "execution_count": null,
      "metadata": {
        "colab": {
          "base_uri": "https://localhost:8080/"
        },
        "id": "f339VZPhPmF6",
        "outputId": "9a335de7-9069-4c7d-fde2-6f3ef7907f69"
      },
      "outputs": [],
      "source": [
        "retiros.info()"
      ]
    },
    {
      "cell_type": "markdown",
      "metadata": {
        "id": "D_tdyPqLCzL6"
      },
      "source": [
        "# ESTADISTICA DESCRIPTIVA"
      ]
    },
    {
      "cell_type": "code",
      "execution_count": null,
      "metadata": {
        "id": "wRy-TZM_s1Hz"
      },
      "outputs": [],
      "source": [
        "variables_modelo = [\n",
        "    \"COMPAÑÍA\", \"CODIGO_AREA\", \"AREA\", \"CODIGO_CARGO\", \"CARGO\", \"REGION\",\n",
        "    \"FORMA_DE_TRABAJO\", \"AÑO\", \"PERIODO\", \"GÉNERO\", \"RETIRO_VOLUNTARIO\", \"NIVEL_DEL_CARGO\",\"RED_DE_SUCURSALES\"\n",
        "]"
      ]
    },
    {
      "cell_type": "code",
      "execution_count": null,
      "metadata": {
        "id": "mRJQF0pzs_81"
      },
      "outputs": [],
      "source": [
        "retiros_reducido = retiros[variables_modelo].copy()"
      ]
    },
    {
      "cell_type": "markdown",
      "metadata": {
        "id": "DwW04LsHDDrw"
      },
      "source": [
        "Convertimos 'RETIRO_VOLUNTARIO' como BOOLEANA para poderlo representar mejor en un diagrama de barras"
      ]
    },
    {
      "cell_type": "code",
      "execution_count": null,
      "metadata": {
        "id": "2whjuRBXDKXU"
      },
      "outputs": [],
      "source": [
        "retiros['RETIRO_VOLUNTARIO'] = retiros['RETIRO_VOLUNTARIO'].astype(\"bool\")"
      ]
    },
    {
      "cell_type": "code",
      "execution_count": null,
      "metadata": {
        "colab": {
          "base_uri": "https://localhost:8080/",
          "height": 517
        },
        "id": "e8X5W1JoCyIj",
        "outputId": "9df32de1-29b3-4e25-b58f-4254e47f33c8"
      },
      "outputs": [],
      "source": [
        "import plotly.express as px\n",
        "\n",
        "# Reemplazar True/False por \"Sí\"/\"No\"\n",
        "conteo = retiros_reducido['RETIRO_VOLUNTARIO'].replace({True: \"Sí\", False: \"No\"}).value_counts().reset_index()\n",
        "conteo.columns = ['RETIRO_VOLUNTARIO', 'count']\n",
        "\n",
        "# Crear gráfico de barras con etiquetas visibles\n",
        "fig = px.bar(\n",
        "    conteo,\n",
        "    x='RETIRO_VOLUNTARIO',\n",
        "    y='count',\n",
        "    text='count',\n",
        "    labels={'RETIRO_VOLUNTARIO': '¿Se retiró voluntariamente?', 'count': 'Cantidad'},\n",
        "    title='Retiros voluntarios en Bancolombia',\n",
        "    width=600,\n",
        "    height=500  # Aumenta altura para dar más espacio\n",
        ")\n",
        "\n",
        "# Posición y estilo del texto\n",
        "fig.update_traces(\n",
        "    textposition='outside',\n",
        "    textfont_size=14  # Tamaño más grande para mejor lectura\n",
        ")\n",
        "\n",
        "# Ajustar márgenes y diseño\n",
        "fig.update_layout(\n",
        "    margin=dict(t=100),  # Espacio superior extra\n",
        "    yaxis_title='Cantidad',\n",
        "    xaxis_title='¿Se retiró voluntariamente?',\n",
        "    uniformtext_minsize=8,\n",
        "    uniformtext_mode='show'\n",
        ")\n",
        "\n",
        "fig.show()"
      ]
    },
    {
      "cell_type": "code",
      "execution_count": null,
      "metadata": {
        "colab": {
          "base_uri": "https://localhost:8080/",
          "height": 542
        },
        "id": "tKyvOvOKD7t5",
        "outputId": "13bf2ab9-e6f4-41c1-bb92-6351618d1a2d"
      },
      "outputs": [],
      "source": [
        "import plotly.express as px\n",
        "\n",
        "# Paso 1: Top 20 códigos de área\n",
        "top_areas = retiros['CODIGO_AREA'].value_counts().head(20).index\n",
        "\n",
        "# Paso 2: Filtrar los datos\n",
        "df_top = retiros[retiros['CODIGO_AREA'].isin(top_areas)]\n",
        "\n",
        "# Paso 3: Agrupar por código de área y retiro voluntario\n",
        "grouped = df_top.groupby(['CODIGO_AREA', 'RETIRO_VOLUNTARIO'], observed=True).size().reset_index(name='Cantidad')\n",
        "\n",
        "# Paso 4: Convertir booleanos a texto\n",
        "grouped['RETIRO_VOLUNTARIO'] = grouped['RETIRO_VOLUNTARIO'].map({False: 'No', True: 'Sí'})\n",
        "\n",
        "# Paso 5: Asegurar que el código de área sea string\n",
        "grouped['CODIGO_AREA'] = grouped['CODIGO_AREA'].astype(str)\n",
        "\n",
        "# Paso 6: Crear el gráfico\n",
        "fig = px.bar(\n",
        "    grouped,\n",
        "    x='CODIGO_AREA',\n",
        "    y='Cantidad',\n",
        "    color='RETIRO_VOLUNTARIO',\n",
        "    title='Top 20 Códigos de Área vs Retiro Voluntario',\n",
        "    labels={\n",
        "        'CODIGO_AREA': 'Código de Área',\n",
        "        'Cantidad': 'Número de Retiros',\n",
        "        'RETIRO_VOLUNTARIO': '¿Retiro Voluntario?'\n",
        "    },\n",
        "    barmode='stack'\n",
        ")\n",
        "\n",
        "# Paso 7: Ajustar el ángulo de las etiquetas\n",
        "fig.update_layout(xaxis_tickangle=-45)\n",
        "\n",
        "# Mostrar el gráfico\n",
        "fig.show()\n"
      ]
    },
    {
      "cell_type": "code",
      "execution_count": null,
      "metadata": {
        "colab": {
          "base_uri": "https://localhost:8080/",
          "height": 817
        },
        "id": "ltpPLqRTFgI1",
        "outputId": "3e8a50fb-1e01-4258-ce4c-a4252de22484"
      },
      "outputs": [],
      "source": [
        "import plotly.express as px\n",
        "\n",
        "# Paso 1: Top 20 áreas por cantidad de retiros\n",
        "top_areas = retiros_reducido['AREA'].value_counts().head(20).index\n",
        "\n",
        "# Paso 2: Filtrar el DataFrame por las top 20 áreas\n",
        "df_top = retiros_reducido[retiros_reducido['AREA'].isin(top_areas)]\n",
        "\n",
        "# Paso 3: Agrupar por AREA y RETIRO_VOLUNTARIO\n",
        "grouped = df_top.groupby(['AREA', 'RETIRO_VOLUNTARIO']).size().reset_index(name='Cantidad')\n",
        "\n",
        "# Paso 4: Asegurar que AREA esté como string (por si acaso)\n",
        "grouped['AREA'] = grouped['AREA'].astype(str)\n",
        "\n",
        "# Paso 5: Crear el gráfico apilado\n",
        "fig = px.bar(\n",
        "    grouped,\n",
        "    x='AREA',\n",
        "    y='Cantidad',\n",
        "    color='RETIRO_VOLUNTARIO',\n",
        "    title='Top 20 Áreas vs Retiro Voluntario',\n",
        "    labels={\n",
        "        'AREA': 'Área',\n",
        "        'Cantidad': 'Número de Retiros',\n",
        "        'RETIRO_VOLUNTARIO': '¿Retiro Voluntario?'\n",
        "    },\n",
        "    barmode='stack'  # Apilado\n",
        ")\n",
        "\n",
        "# Modificar el tamaño del gráfico\n",
        "fig.update_layout(\n",
        "    xaxis_tickangle=-45,\n",
        "    width=1500,  # Ancho del gráfico\n",
        "    height=800   # Alto del gráfico\n",
        ")\n",
        "\n",
        "fig.show()\n"
      ]
    },
    {
      "cell_type": "code",
      "execution_count": null,
      "metadata": {
        "colab": {
          "base_uri": "https://localhost:8080/",
          "height": 817
        },
        "id": "KrdX6tx8uXJM",
        "outputId": "11278c2c-7050-4257-e7e8-894ac61b3148"
      },
      "outputs": [],
      "source": [
        "import plotly.express as px\n",
        "\n",
        "# Paso 1: Top 20 códigos de cargo\n",
        "top_cargos = retiros_reducido['CODIGO_CARGO'].value_counts().head(20).index\n",
        "\n",
        "# Paso 2: Filtrar el DataFrame por los top 20 códigos de cargo\n",
        "df_top = retiros_reducido[retiros_reducido['CODIGO_CARGO'].isin(top_cargos)]\n",
        "\n",
        "# Paso 3: Agrupar por código de cargo y retiro voluntario\n",
        "grouped = df_top.groupby(['CODIGO_CARGO', 'RETIRO_VOLUNTARIO']).size().reset_index(name='Cantidad')\n",
        "\n",
        "# Paso 4: Asegurar que CODIGO_CARGO esté como string para que sea categórico en el eje X\n",
        "grouped['CODIGO_CARGO'] = grouped['CODIGO_CARGO'].astype(str)\n",
        "\n",
        "# Paso 5: Crear el gráfico apilado\n",
        "fig = px.bar(\n",
        "    grouped,\n",
        "    x='CODIGO_CARGO',\n",
        "    y='Cantidad',\n",
        "    color='RETIRO_VOLUNTARIO',\n",
        "    title='Top 20 Códigos de Cargo vs Retiro Voluntario',\n",
        "    labels={'CODIGO_CARGO': 'Código de Cargo', 'Cantidad': 'Número de Retiros', 'RETIRO_VOLUNTARIO': '¿Retiro Voluntario?'},\n",
        "    barmode='stack'  # Apilado\n",
        ")\n",
        "\n",
        "# Modificar el tamaño del gráfico\n",
        "fig.update_layout(\n",
        "    xaxis_tickangle=-45,\n",
        "    width=1500,  # Ancho del gráfico\n",
        "    height=800   # Alto del gráfico\n",
        ")\n",
        "\n",
        "fig.show()"
      ]
    },
    {
      "cell_type": "code",
      "execution_count": null,
      "metadata": {
        "colab": {
          "base_uri": "https://localhost:8080/",
          "height": 708
        },
        "id": "nT2HDjMWF92N",
        "outputId": "c55cb6af-dde9-4387-e95a-c719bc95ce75"
      },
      "outputs": [],
      "source": [
        "# Mostrar la tabla con el top 20 de códigos de cargo y retiro voluntario\n",
        "tabla_top20 = grouped.sort_values(by='Cantidad', ascending=False)\n",
        "display(tabla_top20.sort_index())\n"
      ]
    },
    {
      "cell_type": "code",
      "execution_count": null,
      "metadata": {
        "colab": {
          "base_uri": "https://localhost:8080/",
          "height": 817
        },
        "id": "WRfJmlidGWxT",
        "outputId": "7cd9e98a-46d3-4924-eb82-6077503e2469"
      },
      "outputs": [],
      "source": [
        "import plotly.express as px\n",
        "\n",
        "# Paso 1: Top 20 cargos por cantidad de retiros\n",
        "top_cargos = retiros_reducido['CARGO'].value_counts().head(20).index\n",
        "\n",
        "# Paso 2: Filtrar el DataFrame por los top 20 cargos\n",
        "df_top = retiros_reducido[retiros_reducido['CARGO'].isin(top_cargos)]\n",
        "\n",
        "# Paso 3: Agrupar por CARGO y RETIRO_VOLUNTARIO\n",
        "grouped = df_top.groupby(['CARGO', 'RETIRO_VOLUNTARIO']).size().reset_index(name='Cantidad')\n",
        "\n",
        "# Paso 4: Asegurar que CARGO esté como string para que sea categórico en el eje X\n",
        "grouped['CARGO'] = grouped['CARGO'].astype(str)\n",
        "\n",
        "# Paso 5: Crear el gráfico apilado\n",
        "fig = px.bar(\n",
        "    grouped,\n",
        "    x='CARGO',\n",
        "    y='Cantidad',\n",
        "    color='RETIRO_VOLUNTARIO',\n",
        "    title='Top 20 Cargos vs Retiro Voluntario',\n",
        "    labels={'CARGO': 'Cargo', 'Cantidad': 'Número de Retiros', 'RETIRO_VOLUNTARIO': '¿Retiro Voluntario?'},\n",
        "    barmode='stack'  # Apilado\n",
        ")\n",
        "\n",
        "# Modificar el tamaño del gráfico\n",
        "fig.update_layout(\n",
        "    xaxis_tickangle=-45,\n",
        "    width=1500,  # Ancho\n",
        "    height=800   # Alto\n",
        ")\n",
        "\n",
        "fig.show()"
      ]
    },
    {
      "cell_type": "code",
      "execution_count": null,
      "metadata": {
        "colab": {
          "base_uri": "https://localhost:8080/",
          "height": 672
        },
        "id": "sxkJJoxg1y7n",
        "outputId": "e1a00291-d722-4c8e-e511-7eafc22eddf8"
      },
      "outputs": [],
      "source": [
        "import pandas as pd\n",
        "import plotly.express as px\n",
        "import numpy as np\n",
        "\n",
        "# Paso 1: Reemplazar los nombres de los meses con su formato en inglés\n",
        "month_translation = {\n",
        "    'ene': 'Jan', 'feb': 'Feb', 'mar': 'Mar', 'abr': 'Apr', 'may': 'May', 'jun': 'Jun',\n",
        "    'jul': 'Jul', 'ago': 'Aug', 'sep': 'Sep', 'oct': 'Oct', 'nov': 'Nov', 'dic': 'Dec'\n",
        "}\n",
        "\n",
        "# Asegurarse de que los valores de la columna 'PERIODO' estén en minúsculas\n",
        "retiros_reducido['PERIODO'] = retiros_reducido['PERIODO'].str.lower()\n",
        "\n",
        "# Reemplazar los meses con su formato en inglés\n",
        "retiros_reducido['PERIODO'] = retiros_reducido['PERIODO'].replace(month_translation, regex=True)\n",
        "\n",
        "# Paso 2: Convertir la columna PERIODO a formato datetime (ahora con meses en inglés)\n",
        "retiros_reducido['PERIODO'] = pd.to_datetime(retiros_reducido['PERIODO'], format='%b-%y', errors='coerce')\n",
        "\n",
        "# Paso 3: Verificar si hay valores nulos después de la conversión\n",
        "print(retiros_reducido[retiros_reducido['PERIODO'].isna()])\n",
        "\n",
        "# Paso 4: Calcular el número de bins según la regla de Freedman-Diaconis\n",
        "Q1 = retiros_reducido['PERIODO'].quantile(0.25)\n",
        "Q3 = retiros_reducido['PERIODO'].quantile(0.75)\n",
        "IQR = Q3 - Q1\n",
        "bin_width = 2 * IQR / (len(retiros_reducido['PERIODO']) ** (1 / 3))\n",
        "bins = int((retiros_reducido['PERIODO'].max() - retiros_reducido['PERIODO'].min()) / bin_width)\n",
        "\n",
        "# Paso 5: Crear el gráfico apilado con la variable RETIRO_VOLUNTARIO\n",
        "fig = px.histogram(\n",
        "    retiros_reducido,\n",
        "    x='PERIODO',\n",
        "    color='RETIRO_VOLUNTARIO',  # Apilar según RETIRO_VOLUNTARIO\n",
        "    nbins=bins,  # Número de bins calculado\n",
        "    title='Histograma de Frecuencia de Periodo por Retiro Voluntario',\n",
        "    labels={'PERIODO': 'Periodo', 'count': 'Frecuencia'},\n",
        "    barmode='stack',  # Apilado\n",
        "    color_discrete_map={  # Asignar colores específicos\n",
        "        False: 'blue',    # Falso será azul\n",
        "        True: 'orange'    # Verdadero será naranja\n",
        "    }\n",
        ")\n",
        "\n",
        "# Paso 6: Agregar contornos a las barras y modificar el tamaño del gráfico\n",
        "fig.update_traces(marker_line_width=2, marker_line_color='black')  # Contornos de las barras en negro\n",
        "\n",
        "# Paso 7: Modificar el tamaño del gráfico\n",
        "fig.update_layout(\n",
        "    xaxis_tickangle=-45,\n",
        "    width=1000,  # Cambiar el ancho según desees\n",
        "    height=600   # Cambiar la altura según desees\n",
        ")\n",
        "\n",
        "# Mostrar el gráfico\n",
        "fig.show()"
      ]
    },
    {
      "cell_type": "code",
      "execution_count": null,
      "metadata": {
        "colab": {
          "base_uri": "https://localhost:8080/",
          "height": 937
        },
        "id": "IEJumtRsGY34",
        "outputId": "ac27c73a-ead4-4875-d038-45f109535f96"
      },
      "outputs": [],
      "source": [
        "import pandas as pd\n",
        "import plotly.express as px\n",
        "\n",
        "# Paso 1: Agrupar por la variable COMPAÑÍA y RETIRO_VOLUNTARIO\n",
        "grouped = retiros_reducido.groupby(['COMPAÑÍA', 'RETIRO_VOLUNTARIO']).size().reset_index(name='Cantidad')\n",
        "\n",
        "# Paso 2: Asegurarse de que la columna COMPAÑÍA esté como string (si es necesario)\n",
        "grouped['COMPAÑÍA'] = grouped['COMPAÑÍA'].astype(str)\n",
        "\n",
        "# Paso 3: Crear el gráfico de barras apiladas\n",
        "fig = px.bar(\n",
        "    grouped,\n",
        "    x='COMPAÑÍA',\n",
        "    y='Cantidad',\n",
        "    color='RETIRO_VOLUNTARIO',\n",
        "    title='Cantidad de Retiros por Compañía y Retiro Voluntario',\n",
        "    labels={'COMPAÑÍA': 'Compañía', 'Cantidad': 'Número de Retiros', 'RETIRO_VOLUNTARIO': '¿Retiro Voluntario?'},\n",
        "    barmode='stack',  # Apilado\n",
        ")\n",
        "\n",
        "# Paso 4: Modificar el tamaño del gráfico\n",
        "fig.update_layout(\n",
        "    xaxis_tickangle=-45,  # Rotar las etiquetas del eje X\n",
        "    width=1600,  # Ancho del gráfico\n",
        "    height=900   # Alto del gráfico\n",
        ")\n",
        "\n",
        "# Mostrar el gráfico\n",
        "fig.show()\n"
      ]
    },
    {
      "cell_type": "code",
      "execution_count": null,
      "metadata": {
        "colab": {
          "base_uri": "https://localhost:8080/",
          "height": 717
        },
        "id": "1uuRtywtGDL4",
        "outputId": "c9fb9469-4397-4f46-cd2e-904d7d1aa30e"
      },
      "outputs": [],
      "source": [
        "import pandas as pd\n",
        "import plotly.express as px\n",
        "\n",
        "# Paso 1: Agrupar por la variable REGION y RETIRO_VOLUNTARIO\n",
        "grouped = retiros_reducido.groupby(['REGION', 'RETIRO_VOLUNTARIO']).size().reset_index(name='Cantidad')\n",
        "\n",
        "# Paso 2: Asegurarse de que la columna REGION esté como string (si es necesario)\n",
        "grouped['REGION'] = grouped['REGION'].astype(str)\n",
        "\n",
        "# Paso 3: Crear el gráfico de barras apiladas\n",
        "fig = px.bar(\n",
        "    grouped,\n",
        "    x='REGION',\n",
        "    y='Cantidad',\n",
        "    color='RETIRO_VOLUNTARIO',\n",
        "    title='Cantidad de Retiros por Región y Retiro Voluntario',\n",
        "    labels={'REGION': 'Región', 'Cantidad': 'Número de Retiros', 'RETIRO_VOLUNTARIO': '¿Retiro Voluntario?'},\n",
        "    barmode='stack',  # Apilado\n",
        ")\n",
        "\n",
        "# Paso 4: Modificar el tamaño del gráfico\n",
        "fig.update_layout(\n",
        "    xaxis_tickangle=-45,  # Rotar las etiquetas del eje X\n",
        "    width=1200,  # Ancho del gráfico\n",
        "    height=700   # Alto del gráfico\n",
        ")\n",
        "\n",
        "# Mostrar el gráfico\n",
        "fig.show()\n"
      ]
    },
    {
      "cell_type": "markdown",
      "metadata": {
        "id": "pghTgAbkmDl5"
      },
      "source": [
        "Pasos para un Feature Engineering"
      ]
    },
    {
      "cell_type": "code",
      "execution_count": null,
      "metadata": {
        "colab": {
          "base_uri": "https://localhost:8080/",
          "height": 717
        },
        "id": "mAl6fJ5QIOBf",
        "outputId": "7517492f-8ae7-4e92-e008-2e495febd292"
      },
      "outputs": [],
      "source": [
        "import pandas as pd\n",
        "import plotly.express as px\n",
        "\n",
        "# Paso 1: Agrupar por la variable FORMA_DE_TRABAJO y RETIRO_VOLUNTARIO\n",
        "grouped = retiros_reducido.groupby(['FORMA_DE_TRABAJO', 'RETIRO_VOLUNTARIO']).size().reset_index(name='Cantidad')\n",
        "\n",
        "# Paso 2: Asegurarse de que la columna FORMA_DE_TRABAJO esté como string (si es necesario)\n",
        "grouped['FORMA_DE_TRABAJO'] = grouped['FORMA_DE_TRABAJO'].astype(str)\n",
        "\n",
        "# Paso 3: Crear el gráfico de barras apiladas\n",
        "fig = px.bar(\n",
        "    grouped,\n",
        "    x='FORMA_DE_TRABAJO',\n",
        "    y='Cantidad',\n",
        "    color='RETIRO_VOLUNTARIO',\n",
        "    title='Cantidad de Retiros por Forma de Trabajo y Retiro Voluntario',\n",
        "    labels={'FORMA_DE_TRABAJO': 'Forma de Trabajo', 'Cantidad': 'Número de Retiros', 'RETIRO_VOLUNTARIO': '¿Retiro Voluntario?'},\n",
        "    barmode='stack',  # Apilado\n",
        ")\n",
        "\n",
        "# Paso 4: Modificar el tamaño del gráfico\n",
        "fig.update_layout(\n",
        "    xaxis_tickangle=-45,  # Rotar las etiquetas del eje X\n",
        "    width=1200,  # Ancho del gráfico\n",
        "    height=700   # Alto del gráfico\n",
        ")\n",
        "\n",
        "# Mostrar el gráfico\n",
        "fig.show()\n"
      ]
    },
    {
      "cell_type": "code",
      "execution_count": null,
      "metadata": {
        "id": "vdCJNuffmGP3"
      },
      "outputs": [],
      "source": []
    },
    {
      "cell_type": "code",
      "execution_count": null,
      "metadata": {
        "colab": {
          "base_uri": "https://localhost:8080/",
          "height": 717
        },
        "id": "1dpP-Yc9Gv0U",
        "outputId": "0aeea297-15d8-4f74-d5f3-e90427b2662a"
      },
      "outputs": [],
      "source": [
        "import pandas as pd\n",
        "import plotly.express as px\n",
        "\n",
        "# Paso 1: Asegurarse de que la columna AÑO sea de tipo string (si es necesario)\n",
        "retiros_reducido['AÑO'] = retiros_reducido['AÑO'].astype(str)\n",
        "\n",
        "# Paso 2: Agrupar por la variable AÑO y RETIRO_VOLUNTARIO\n",
        "grouped = retiros_reducido.groupby(['AÑO', 'RETIRO_VOLUNTARIO']).size().reset_index(name='Cantidad')\n",
        "\n",
        "# Paso 3: Crear el gráfico de barras apiladas\n",
        "fig = px.bar(\n",
        "    grouped,\n",
        "    x='AÑO',\n",
        "    y='Cantidad',\n",
        "    color='RETIRO_VOLUNTARIO',\n",
        "    title='Cantidad de Retiros por Año y Retiro Voluntario',\n",
        "    labels={'AÑO': 'Año', 'Cantidad': 'Número de Retiros', 'RETIRO_VOLUNTARIO': '¿Retiro Voluntario?'},\n",
        "    barmode='stack',  # Apilado\n",
        ")\n",
        "\n",
        "# Paso 4: Modificar el tamaño del gráfico\n",
        "fig.update_layout(\n",
        "    xaxis_tickangle=-45,  # Rotar las etiquetas del eje X\n",
        "    width=1200,  # Ancho del gráfico\n",
        "    height=700   # Alto del gráfico\n",
        ")\n",
        "\n",
        "# Mostrar el gráfico\n",
        "fig.show()"
      ]
    },
    {
      "cell_type": "code",
      "execution_count": null,
      "metadata": {
        "colab": {
          "base_uri": "https://localhost:8080/",
          "height": 717
        },
        "id": "SRemn8d_G0cg",
        "outputId": "d08c07a5-0ef4-43f0-fe5a-5b824edc02d9"
      },
      "outputs": [],
      "source": [
        "import pandas as pd\n",
        "import plotly.express as px\n",
        "\n",
        "# Paso 1: Asegurarse de que la columna GÉNERO sea de tipo string (si es necesario)\n",
        "retiros_reducido['GÉNERO'] = retiros_reducido['GÉNERO'].astype(str)\n",
        "\n",
        "# Paso 2: Agrupar por la variable GÉNERO y RETIRO_VOLUNTARIO\n",
        "grouped = retiros_reducido.groupby(['GÉNERO', 'RETIRO_VOLUNTARIO']).size().reset_index(name='Cantidad')\n",
        "\n",
        "# Paso 3: Crear el gráfico de barras apiladas\n",
        "fig = px.bar(\n",
        "    grouped,\n",
        "    x='GÉNERO',\n",
        "    y='Cantidad',\n",
        "    color='RETIRO_VOLUNTARIO',\n",
        "    title='Cantidad de Retiros por Género y Retiro Voluntario',\n",
        "    labels={'GÉNERO': 'Género', 'Cantidad': 'Número de Retiros', 'RETIRO_VOLUNTARIO': '¿Retiro Voluntario?'},\n",
        "    barmode='stack',  # Apilado\n",
        ")\n",
        "\n",
        "# Paso 4: Modificar el tamaño del gráfico\n",
        "fig.update_layout(\n",
        "    xaxis_tickangle=-45,  # Rotar las etiquetas del eje X\n",
        "    width=1200,  # Ancho del gráfico\n",
        "    height=700   # Alto del gráfico\n",
        ")\n",
        "\n",
        "# Mostrar el gráfico\n",
        "fig.show()"
      ]
    },
    {
      "cell_type": "code",
      "execution_count": null,
      "metadata": {
        "colab": {
          "base_uri": "https://localhost:8080/",
          "height": 717
        },
        "id": "ezIk1sYiG4Wf",
        "outputId": "8638a0d7-d629-4a37-bfdc-009e6cc66bca"
      },
      "outputs": [],
      "source": [
        "import pandas as pd\n",
        "import plotly.express as px\n",
        "\n",
        "# Paso 1: Asegurarse de que la columna NIVEL_DEL_CARGO sea de tipo string (si es necesario)\n",
        "retiros_reducido['NIVEL_DEL_CARGO'] = retiros_reducido['NIVEL_DEL_CARGO'].astype(str)\n",
        "\n",
        "# Paso 2: Agrupar por la variable NIVEL_DEL_CARGO y RETIRO_VOLUNTARIO\n",
        "grouped = retiros_reducido.groupby(['NIVEL_DEL_CARGO', 'RETIRO_VOLUNTARIO']).size().reset_index(name='Cantidad')\n",
        "\n",
        "# Paso 3: Crear el gráfico de barras apiladas\n",
        "fig = px.bar(\n",
        "    grouped,\n",
        "    x='NIVEL_DEL_CARGO',\n",
        "    y='Cantidad',\n",
        "    color='RETIRO_VOLUNTARIO',\n",
        "    title='Cantidad de Retiros por Nivel del Cargo y Retiro Voluntario',\n",
        "    labels={'NIVEL_DEL_CARGO': 'Nivel del Cargo', 'Cantidad': 'Número de Retiros', 'RETIRO_VOLUNTARIO': '¿Retiro Voluntario?'},\n",
        "    barmode='stack',  # Apilado\n",
        ")\n",
        "\n",
        "# Paso 4: Modificar el tamaño del gráfico\n",
        "fig.update_layout(\n",
        "    xaxis_tickangle=-45,  # Rotar las etiquetas del eje X\n",
        "    width=1200,  # Ancho del gráfico\n",
        "    height=700   # Alto del gráfico\n",
        ")\n",
        "\n",
        "# Mostrar el gráfico\n",
        "fig.show()"
      ]
    },
    {
      "cell_type": "code",
      "execution_count": null,
      "metadata": {
        "colab": {
          "base_uri": "https://localhost:8080/",
          "height": 717
        },
        "id": "RDdPFDWkHDKV",
        "outputId": "be7f03a8-b0db-4621-cfa6-6c7efa77d323"
      },
      "outputs": [],
      "source": [
        "import pandas as pd\n",
        "import plotly.express as px\n",
        "\n",
        "# Paso 1: Asegurarse de que la columna RED_DE_SUCURSALES sea de tipo string (si es necesario)\n",
        "retiros_reducido['RED_DE_SUCURSALES'] = retiros_reducido['RED_DE_SUCURSALES'].astype(str)\n",
        "\n",
        "# Paso 2: Agrupar por la variable RED_DE_SUCURSALES y RETIRO_VOLUNTARIO\n",
        "grouped = retiros_reducido.groupby(['RED_DE_SUCURSALES', 'RETIRO_VOLUNTARIO']).size().reset_index(name='Cantidad')\n",
        "\n",
        "# Paso 3: Crear el gráfico de barras apiladas\n",
        "fig = px.bar(\n",
        "    grouped,\n",
        "    x='RED_DE_SUCURSALES',\n",
        "    y='Cantidad',\n",
        "    color='RETIRO_VOLUNTARIO',\n",
        "    title='Cantidad de Retiros por Red de Sucursales y Retiro Voluntario',\n",
        "    labels={'RED_DE_SUCURSALES': 'Red de Sucursales', 'Cantidad': 'Número de Retiros', 'RETIRO_VOLUNTARIO': '¿Retiro Voluntario?'},\n",
        "    barmode='stack',  # Apilado\n",
        ")\n",
        "\n",
        "# Paso 4: Modificar el tamaño del gráfico\n",
        "fig.update_layout(\n",
        "    xaxis_tickangle=-45,  # Rotar las etiquetas del eje X\n",
        "    width=1200,  # Ancho del gráfico\n",
        "    height=700   # Alto del gráfico\n",
        ")\n",
        "\n",
        "# Mostrar el gráfico\n",
        "fig.show()"
      ]
    },
    {
      "cell_type": "code",
      "execution_count": null,
      "metadata": {
        "id": "6Axb1VQVIbT7"
      },
      "outputs": [],
      "source": [
        "# base libraries for data science\n",
        "from pathlib import Path\n",
        "\n",
        "import pandas as pd\n",
        "import sklearn as sk\n",
        "from sklearn.compose import ColumnTransformer\n",
        "from sklearn.impute import SimpleImputer\n",
        "from sklearn.model_selection import train_test_split\n",
        "from sklearn.pipeline import Pipeline\n",
        "from sklearn.preprocessing import OneHotEncoder, OrdinalEncoder"
      ]
    },
    {
      "cell_type": "code",
      "execution_count": null,
      "metadata": {
        "colab": {
          "base_uri": "https://localhost:8080/"
        },
        "id": "nAMzYAKa8H_o",
        "outputId": "ccee06ba-efa6-45c4-ffbe-c3cb9d414316"
      },
      "outputs": [],
      "source": [
        "retiros.info()"
      ]
    },
    {
      "cell_type": "markdown",
      "metadata": {
        "id": "px2gjIbS8PGl"
      },
      "source": [
        "ELIMINACIÓN DE COLUMNAS NO NECESARIAS PARA EL MODELO"
      ]
    },
    {
      "cell_type": "code",
      "execution_count": null,
      "metadata": {
        "id": "uTwh8S1bm-G3"
      },
      "outputs": [],
      "source": [
        "variables_modelo = [\n",
        "    \"COMPAÑÍA\", \"CODIGO_AREA\", \"AREA\", \"CODIGO_CARGO\", \"CARGO\", \"REGION\",\n",
        "    \"FORMA_DE_TRABAJO\", \"AÑO\", \"PERIODO\", \"GÉNERO\", \"RETIRO_VOLUNTARIO\", \"NIVEL_DEL_CARGO\",\"RED_DE_SUCURSALES\"\n",
        "]"
      ]
    },
    {
      "cell_type": "markdown",
      "metadata": {
        "id": "Y9LAGqen1nCQ"
      },
      "source": [
        "Estas variables describen al empleado antes del retiro y son apropiadas para entrenar el modelo:\n",
        "\n",
        "COMPAÑÍA, CODIGO_AREA, AREA, CODIGO_CARGO, CARGO, REGION, FORMA_DE_TRABAJO, AÑO, PERIODO, GÉNERO.\n",
        "\n",
        "El resto de variables se eliminan de la variable retiro_reducido, por qué no aporta información pertinente para el modelo o estas variables reflejan la decisión o consecuencia del retiro, o están muy relacionadas con la definición directa del target, por lo que confundiria el modelo."
      ]
    },
    {
      "cell_type": "code",
      "execution_count": null,
      "metadata": {
        "colab": {
          "base_uri": "https://localhost:8080/",
          "height": 718
        },
        "id": "tHN-K531nPyf",
        "outputId": "a0ddf314-861b-4c6d-a22a-2b9761a0125d"
      },
      "outputs": [],
      "source": [
        "retiros_reducido = retiros[variables_modelo].copy()\n",
        "retiros_reducido"
      ]
    },
    {
      "cell_type": "code",
      "execution_count": null,
      "metadata": {
        "colab": {
          "base_uri": "https://localhost:8080/"
        },
        "id": "JYcHlKfMnVNE",
        "outputId": "8bf7be9d-95df-4b88-b13a-be8e28f963db"
      },
      "outputs": [],
      "source": [
        "retiros_reducido.info()"
      ]
    },
    {
      "cell_type": "markdown",
      "metadata": {
        "id": "k78-GsoIycyi"
      },
      "source": [
        "VALORES FALTANTES"
      ]
    },
    {
      "cell_type": "code",
      "execution_count": null,
      "metadata": {
        "colab": {
          "base_uri": "https://localhost:8080/",
          "height": 491
        },
        "id": "Kj9TZRUVywms",
        "outputId": "d1604668-9176-459a-f806-0d0cf35b1e7a"
      },
      "outputs": [],
      "source": [
        "retiros_reducido.isna().sum()"
      ]
    },
    {
      "cell_type": "markdown",
      "metadata": {
        "id": "HGx77aJ4zJda"
      },
      "source": [
        "DATOS DUPLICADOS"
      ]
    },
    {
      "cell_type": "code",
      "execution_count": null,
      "metadata": {
        "colab": {
          "base_uri": "https://localhost:8080/"
        },
        "id": "HQF9OTdIy2or",
        "outputId": "9591e728-d4d0-4a60-b0ae-f85888147f48"
      },
      "outputs": [],
      "source": [
        "filas_duplicadas = retiros_reducido.duplicated().sum()\n",
        "print(\"Cantidad de filas duplicadas: \", filas_duplicadas)"
      ]
    },
    {
      "cell_type": "markdown",
      "metadata": {
        "id": "gZAnc4IXzhfH"
      },
      "source": [
        "Se identifica que al renombrar el dataframe y manejar solo las variables necesarias para el modelo, tenemos información duplicada, pero esto se debe a que se elimina el ID; por lo que es normal que se repitan las filas con datos comunes entre sí."
      ]
    },
    {
      "cell_type": "code",
      "execution_count": null,
      "metadata": {
        "colab": {
          "base_uri": "https://localhost:8080/"
        },
        "id": "WQbktiXq9huh",
        "outputId": "2aa5ced7-3afe-49a8-bd59-83b9c9554acc"
      },
      "outputs": [],
      "source": [
        "retiros_reducido.info()"
      ]
    },
    {
      "cell_type": "markdown",
      "metadata": {
        "id": "WAo76Rlw94Al"
      },
      "source": [
        "INGENIERIA DE DATOS"
      ]
    },
    {
      "cell_type": "code",
      "execution_count": null,
      "metadata": {
        "colab": {
          "base_uri": "https://localhost:8080/",
          "height": 345
        },
        "id": "FJZ82zXd9j0D",
        "outputId": "285ba9b5-3774-41f3-d5e5-c6050188ed2d"
      },
      "outputs": [],
      "source": [
        "# Codificar la variable objetivo\n",
        "\n",
        "retiros_reducido[\"RETIRO_VOLUNTARIO\"] = retiros_reducido[\"RETIRO_VOLUNTARIO\"].astype(\"int\")               #.astype, se utiliza para cambiar el tipo de dato\n",
        "\n",
        "retiros_reducido.sample(5)"
      ]
    },
    {
      "cell_type": "code",
      "execution_count": null,
      "metadata": {
        "colab": {
          "base_uri": "https://localhost:8080/"
        },
        "id": "UCKOZ5qT_nvt",
        "outputId": "526eed90-12d9-4fec-d369-39040f99e89f"
      },
      "outputs": [],
      "source": [
        "# Categoricas ordinales y target\n",
        "\n",
        "target = 'RETIRO_VOLUNTARIO'\n",
        "\n",
        "cols_categoric_ordinal = [\"AÑO\"]\n",
        "print(cols_categoric_ordinal)"
      ]
    },
    {
      "cell_type": "code",
      "execution_count": null,
      "metadata": {
        "colab": {
          "base_uri": "https://localhost:8080/"
        },
        "id": "BHU6RwueBrsl",
        "outputId": "1b728a45-54e3-40e7-8605-bd469d2f44a1"
      },
      "outputs": [],
      "source": [
        "# Columnas categóricas (no ordenadas)\n",
        "\n",
        "cols_categoric_nominales = retiros_reducido.select_dtypes(include=['object', 'category']).columns.tolist()   #se puede hacer con el código de las ordinales o con este, llamando directamente los object y categoricos\n",
        "cols_categoric_nominales"
      ]
    },
    {
      "cell_type": "code",
      "execution_count": null,
      "metadata": {
        "colab": {
          "base_uri": "https://localhost:8080/"
        },
        "id": "7IkgAeWtCzCH",
        "outputId": "ac63ed04-9eb4-48c4-9e00-b9374cb6f23c"
      },
      "outputs": [],
      "source": [
        "# Columnas fecha\n",
        "cols_fecha = retiros_reducido.select_dtypes(include=['datetime64[ns]']).columns.tolist()\n",
        "cols_fecha"
      ]
    },
    {
      "cell_type": "markdown",
      "metadata": {
        "id": "UoP6QGMKQLKU"
      },
      "source": [
        "# **PIPELINES**"
      ]
    },
    {
      "cell_type": "code",
      "execution_count": null,
      "metadata": {
        "id": "kjLfh55-ERMQ"
      },
      "outputs": [],
      "source": [
        "categorical_pipe = Pipeline(\n",
        "    steps=[\n",
        "        (\"imputer\", SimpleImputer(strategy=\"most_frequent\")),\n",
        "        (\"onehot\", OneHotEncoder()),\n",
        "    ]\n",
        ")"
      ]
    },
    {
      "cell_type": "code",
      "execution_count": null,
      "metadata": {
        "id": "x5mrzb2YVC81"
      },
      "outputs": [],
      "source": [
        "categorical_ord_pipe = Pipeline(\n",
        "    steps=[\n",
        "        (\"imputer\", SimpleImputer(strategy=\"most_frequent\")),\n",
        "        (\"ordinal\", OrdinalEncoder()),\n",
        "    ]\n",
        ")"
      ]
    },
    {
      "cell_type": "markdown",
      "metadata": {
        "id": "rTiAkfOnVGGU"
      },
      "source": [
        "# **PREPROCESADOR**"
      ]
    },
    {
      "cell_type": "code",
      "execution_count": null,
      "metadata": {
        "colab": {
          "base_uri": "https://localhost:8080/",
          "height": 188
        },
        "id": "9jDHnOjuVS9z",
        "outputId": "9383537a-0552-4aa7-f285-a0418d654e38"
      },
      "outputs": [],
      "source": [
        "preprocessor = ColumnTransformer(\n",
        "    transformers=[        (\"categoric\", categorical_pipe, cols_categoric_nominales),\n",
        "        (\"categoric ordinales\", categorical_ord_pipe, cols_categoric_ordinal),\n",
        "    ]\n",
        ")\n",
        "\n",
        "preprocessor"
      ]
    },
    {
      "cell_type": "markdown",
      "metadata": {
        "id": "M809Y5MoWKCY"
      },
      "source": [
        "# **Train / Test split**"
      ]
    },
    {
      "cell_type": "code",
      "execution_count": null,
      "metadata": {
        "id": "MIvvXg0DVhFh"
      },
      "outputs": [],
      "source": [
        "# conjunto de entrenamiento y de prueba\n",
        "\n",
        "X_features = retiros_reducido.drop(\"RETIRO_VOLUNTARIO\", axis=\"columns\")\n",
        "Y_target = retiros_reducido[\"RETIRO_VOLUNTARIO\"]"
      ]
    },
    {
      "cell_type": "code",
      "execution_count": null,
      "metadata": {
        "id": "tW078_CDWfiW"
      },
      "outputs": [],
      "source": [
        "# 80% train, 20% test\n",
        "\n",
        "x_train, x_test, y_train, y_test = train_test_split(\n",
        "    X_features, Y_target, test_size=0.2, stratify=Y_target\n",
        ")"
      ]
    },
    {
      "cell_type": "code",
      "execution_count": null,
      "metadata": {
        "colab": {
          "base_uri": "https://localhost:8080/"
        },
        "id": "oQqq_P8WWjwq",
        "outputId": "9647a6fa-a943-4ada-bbe4-e32cfe9a0aa4"
      },
      "outputs": [],
      "source": [
        "# Verificamos dimensiones\n",
        "\n",
        "x_train.shape, y_train.shape"
      ]
    },
    {
      "cell_type": "code",
      "execution_count": null,
      "metadata": {
        "colab": {
          "base_uri": "https://localhost:8080/"
        },
        "id": "UXk_qBMWWmjV",
        "outputId": "cc6a9323-71cf-4d3f-c3db-de340cc8a2fd"
      },
      "outputs": [],
      "source": [
        "# Verificamos dimensiones\n",
        "\n",
        "x_test.shape, y_test.shape"
      ]
    },
    {
      "cell_type": "markdown",
      "metadata": {
        "id": "krpweCgwXCoN"
      },
      "source": [
        "# **Preprocesamiento**"
      ]
    },
    {
      "cell_type": "code",
      "execution_count": null,
      "metadata": {
        "colab": {
          "base_uri": "https://localhost:8080/",
          "height": 188
        },
        "id": "ULHBosQUW7jU",
        "outputId": "472fc3ed-b90d-4515-f91a-ff5f32cff64d"
      },
      "outputs": [],
      "source": [
        "transformed_data = preprocessor.fit(x_train)\n",
        "\n",
        "transformed_data"
      ]
    },
    {
      "cell_type": "code",
      "execution_count": null,
      "metadata": {
        "colab": {
          "base_uri": "https://localhost:8080/"
        },
        "id": "ez6zkntTZPgq",
        "outputId": "229fe556-1f45-489d-8f54-ebefd2660a69"
      },
      "outputs": [],
      "source": [
        "feature_names = preprocessor.get_feature_names_out()\n",
        "\n",
        "feature_names"
      ]
    },
    {
      "cell_type": "markdown",
      "metadata": {
        "id": "zkYkUukMZdaH"
      },
      "source": [
        "Para ver con más detalle las transformaciones del one hote encoding, podemos convertir rápidamente en un dataframe las variables preprocesadas:"
      ]
    }
  ],
  "metadata": {
    "colab": {
      "provenance": []
    },
    "kernelspec": {
      "display_name": "Python 3",
      "name": "python3"
    },
    "language_info": {
      "codemirror_mode": {
        "name": "ipython",
        "version": 3
      },
      "file_extension": ".py",
      "mimetype": "text/x-python",
      "name": "python",
      "nbconvert_exporter": "python",
      "pygments_lexer": "ipython3",
      "version": "3.9.12"
    }
  },
  "nbformat": 4,
  "nbformat_minor": 0
}
